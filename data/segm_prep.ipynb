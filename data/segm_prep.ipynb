{
 "cells": [
  {
   "cell_type": "code",
   "execution_count": null,
   "metadata": {
    "collapsed": true
   },
   "outputs": [],
   "source": [
    "# to get segment dataset use:\n",
    "# wget -t inf https://www.csie.ntu.edu.tw/~cjlin/libsvmtools/datasets/multiclass/segment.scale"
   ]
  },
  {
   "cell_type": "code",
   "execution_count": 1,
   "metadata": {
    "collapsed": true
   },
   "outputs": [],
   "source": [
    "import numpy as np\n",
    "import pandas as pd\n",
    "import matplotlib.pyplot as plt\n",
    "\n",
    "%matplotlib inline"
   ]
  },
  {
   "cell_type": "code",
   "execution_count": 3,
   "metadata": {},
   "outputs": [],
   "source": [
    "data_path = '/nmnt/x04-hdd/boris_temp/SGIMC_IMC/segment/'\n",
    "\n",
    "data = pd.read_csv(data_path + 'segment.scale', sep = ' ', header=None)\n",
    "data.drop(columns=[data.columns[-1]], inplace=True)"
   ]
  },
  {
   "cell_type": "code",
   "execution_count": 4,
   "metadata": {},
   "outputs": [
    {
     "data": {
      "text/html": [
       "<div>\n",
       "<style scoped>\n",
       "    .dataframe tbody tr th:only-of-type {\n",
       "        vertical-align: middle;\n",
       "    }\n",
       "\n",
       "    .dataframe tbody tr th {\n",
       "        vertical-align: top;\n",
       "    }\n",
       "\n",
       "    .dataframe thead th {\n",
       "        text-align: right;\n",
       "    }\n",
       "</style>\n",
       "<table border=\"1\" class=\"dataframe\">\n",
       "  <thead>\n",
       "    <tr style=\"text-align: right;\">\n",
       "      <th></th>\n",
       "      <th>0</th>\n",
       "      <th>1</th>\n",
       "      <th>2</th>\n",
       "      <th>3</th>\n",
       "      <th>4</th>\n",
       "      <th>5</th>\n",
       "      <th>6</th>\n",
       "      <th>7</th>\n",
       "      <th>8</th>\n",
       "      <th>9</th>\n",
       "      <th>10</th>\n",
       "      <th>11</th>\n",
       "      <th>12</th>\n",
       "      <th>13</th>\n",
       "      <th>14</th>\n",
       "      <th>15</th>\n",
       "      <th>16</th>\n",
       "      <th>17</th>\n",
       "      <th>18</th>\n",
       "    </tr>\n",
       "  </thead>\n",
       "  <tbody>\n",
       "    <tr>\n",
       "      <th>0</th>\n",
       "      <td>6</td>\n",
       "      <td>1:0.715415</td>\n",
       "      <td>2:0.391667</td>\n",
       "      <td>4:-0.333333</td>\n",
       "      <td>5:-1</td>\n",
       "      <td>6:-0.942966</td>\n",
       "      <td>7:-0.998895</td>\n",
       "      <td>8:-0.950311</td>\n",
       "      <td>9:-0.999215</td>\n",
       "      <td>10:-0.168603</td>\n",
       "      <td>11:-0.235008</td>\n",
       "      <td>12:-0.0029455</td>\n",
       "      <td>13:-0.281372</td>\n",
       "      <td>14:-0.0559701</td>\n",
       "      <td>15:0.254118</td>\n",
       "      <td>16:-0.703985</td>\n",
       "      <td>17:-0.0029455</td>\n",
       "      <td>18:-0.362007</td>\n",
       "      <td>19:-0.663025</td>\n",
       "    </tr>\n",
       "    <tr>\n",
       "      <th>1</th>\n",
       "      <td>3</td>\n",
       "      <td>1:-0.114625</td>\n",
       "      <td>2:-0.00833333</td>\n",
       "      <td>4:-1</td>\n",
       "      <td>5:-1</td>\n",
       "      <td>6:-0.980989</td>\n",
       "      <td>7:-0.999494</td>\n",
       "      <td>8:-0.985093</td>\n",
       "      <td>9:-0.999473</td>\n",
       "      <td>10:-0.987607</td>\n",
       "      <td>11:-1</td>\n",
       "      <td>12:-0.966127</td>\n",
       "      <td>13:-0.998441</td>\n",
       "      <td>14:0.578358</td>\n",
       "      <td>15:-0.630588</td>\n",
       "      <td>16:0.0777989</td>\n",
       "      <td>17:-0.966127</td>\n",
       "      <td>18:1</td>\n",
       "      <td>19:-0.690793</td>\n",
       "    </tr>\n",
       "    <tr>\n",
       "      <th>2</th>\n",
       "      <td>2</td>\n",
       "      <td>1:0.588933</td>\n",
       "      <td>2:-0.75</td>\n",
       "      <td>4:-1</td>\n",
       "      <td>5:-1</td>\n",
       "      <td>6:-0.935361</td>\n",
       "      <td>7:-0.998443</td>\n",
       "      <td>8:-0.950311</td>\n",
       "      <td>9:-0.99852</td>\n",
       "      <td>10:0.715466</td>\n",
       "      <td>11:0.632091</td>\n",
       "      <td>12:0.852725</td>\n",
       "      <td>13:0.647701</td>\n",
       "      <td>14:-0.455224</td>\n",
       "      <td>15:0.327059</td>\n",
       "      <td>16:-0.41556</td>\n",
       "      <td>17:0.852725</td>\n",
       "      <td>18:-0.601306</td>\n",
       "      <td>19:-0.750109</td>\n",
       "    </tr>\n",
       "    <tr>\n",
       "      <th>3</th>\n",
       "      <td>6</td>\n",
       "      <td>1:-0.754941</td>\n",
       "      <td>2:0.35</td>\n",
       "      <td>4:-1</td>\n",
       "      <td>5:-1</td>\n",
       "      <td>6:-0.882129</td>\n",
       "      <td>7:-0.996407</td>\n",
       "      <td>8:-0.597516</td>\n",
       "      <td>9:-0.990263</td>\n",
       "      <td>10:-0.392202</td>\n",
       "      <td>11:-0.423015</td>\n",
       "      <td>12:-0.298969</td>\n",
       "      <td>13:-0.462198</td>\n",
       "      <td>14:0.261194</td>\n",
       "      <td>15:-0.145882</td>\n",
       "      <td>16:-0.381404</td>\n",
       "      <td>17:-0.298969</td>\n",
       "      <td>18:-0.466172</td>\n",
       "      <td>19:-0.649025</td>\n",
       "    </tr>\n",
       "    <tr>\n",
       "      <th>4</th>\n",
       "      <td>6</td>\n",
       "      <td>1:-0.525692</td>\n",
       "      <td>2:0.55</td>\n",
       "      <td>4:-1</td>\n",
       "      <td>5:-1</td>\n",
       "      <td>6:-0.901141</td>\n",
       "      <td>7:-0.996944</td>\n",
       "      <td>8:-0.88323</td>\n",
       "      <td>9:-0.997222</td>\n",
       "      <td>10:-0.308546</td>\n",
       "      <td>11:-0.354943</td>\n",
       "      <td>12:-0.184094</td>\n",
       "      <td>13:-0.396726</td>\n",
       "      <td>14:0.126866</td>\n",
       "      <td>15:0.0235294</td>\n",
       "      <td>16:-0.518027</td>\n",
       "      <td>17:-0.184094</td>\n",
       "      <td>18:-0.394151</td>\n",
       "      <td>19:-0.656888</td>\n",
       "    </tr>\n",
       "  </tbody>\n",
       "</table>\n",
       "</div>"
      ],
      "text/plain": [
       "   0            1              2            3     4            5   \\\n",
       "0   6   1:0.715415     2:0.391667  4:-0.333333  5:-1  6:-0.942966   \n",
       "1   3  1:-0.114625  2:-0.00833333         4:-1  5:-1  6:-0.980989   \n",
       "2   2   1:0.588933        2:-0.75         4:-1  5:-1  6:-0.935361   \n",
       "3   6  1:-0.754941         2:0.35         4:-1  5:-1  6:-0.882129   \n",
       "4   6  1:-0.525692         2:0.55         4:-1  5:-1  6:-0.901141   \n",
       "\n",
       "            6            7            8             9             10  \\\n",
       "0  7:-0.998895  8:-0.950311  9:-0.999215  10:-0.168603  11:-0.235008   \n",
       "1  7:-0.999494  8:-0.985093  9:-0.999473  10:-0.987607         11:-1   \n",
       "2  7:-0.998443  8:-0.950311   9:-0.99852   10:0.715466   11:0.632091   \n",
       "3  7:-0.996407  8:-0.597516  9:-0.990263  10:-0.392202  11:-0.423015   \n",
       "4  7:-0.996944   8:-0.88323  9:-0.997222  10:-0.308546  11:-0.354943   \n",
       "\n",
       "              11            12             13            14            15  \\\n",
       "0  12:-0.0029455  13:-0.281372  14:-0.0559701   15:0.254118  16:-0.703985   \n",
       "1   12:-0.966127  13:-0.998441    14:0.578358  15:-0.630588  16:0.0777989   \n",
       "2    12:0.852725   13:0.647701   14:-0.455224   15:0.327059   16:-0.41556   \n",
       "3   12:-0.298969  13:-0.462198    14:0.261194  15:-0.145882  16:-0.381404   \n",
       "4   12:-0.184094  13:-0.396726    14:0.126866  15:0.0235294  16:-0.518027   \n",
       "\n",
       "              16            17            18  \n",
       "0  17:-0.0029455  18:-0.362007  19:-0.663025  \n",
       "1   17:-0.966127          18:1  19:-0.690793  \n",
       "2    17:0.852725  18:-0.601306  19:-0.750109  \n",
       "3   17:-0.298969  18:-0.466172  19:-0.649025  \n",
       "4   17:-0.184094  18:-0.394151  19:-0.656888  "
      ]
     },
     "execution_count": 4,
     "metadata": {},
     "output_type": "execute_result"
    }
   ],
   "source": [
    "data.head()"
   ]
  },
  {
   "cell_type": "code",
   "execution_count": 5,
   "metadata": {
    "collapsed": true
   },
   "outputs": [],
   "source": [
    "data_arr = data.as_matrix()\n",
    "features_arr = data_arr[:,1:]\n",
    "atr_arr = data_arr[:,0].astype(dtype='int32')"
   ]
  },
  {
   "cell_type": "code",
   "execution_count": 6,
   "metadata": {
    "collapsed": true
   },
   "outputs": [],
   "source": [
    "def pars_elem(obj):\n",
    "    if obj is None:\n",
    "        return None\n",
    "    elif type(obj) is float:\n",
    "        if np.isnan(obj):\n",
    "            return None\n",
    "        else:\n",
    "            assert False\n",
    "    else:\n",
    "        for i in range(len(obj)):\n",
    "            if obj[i] == ':':\n",
    "                return i"
   ]
  },
  {
   "cell_type": "code",
   "execution_count": 7,
   "metadata": {
    "collapsed": true
   },
   "outputs": [],
   "source": [
    "# hardcoded 19 indecies features (features_arr.shape[1]+1)\n",
    "\n",
    "# creating matrix of features\n",
    "prep_features_arr = np.zeros((features_arr.shape[0], features_arr.shape[1]+1), dtype='float64')\n",
    "\n",
    "for i in range(features_arr.shape[0]):\n",
    "    for j in range(features_arr.shape[1]):\n",
    "        elem = features_arr[i,j]\n",
    "        div_idx = pars_elem(elem)\n",
    "        if not div_idx is None:\n",
    "            ftr_idx = int(elem[:div_idx])\n",
    "            ftr_val = float(elem[div_idx+1:])\n",
    "            prep_features_arr[i, ftr_idx-1] = ftr_val\n",
    "            \n",
    "X = np.delete(prep_features_arr, 2, axis=-1)\n",
    "R = np.zeros((len(data_arr), len(data_arr)))\n",
    "\n",
    "# creating matrix for semi-supervised clustering\n",
    "for i in range(len(atr_arr)):\n",
    "    for j in range(len(atr_arr)):\n",
    "        if atr_arr[i] == atr_arr[j]: R[i,j] = 1\n",
    "        else: R[i,j] = -1"
   ]
  },
  {
   "cell_type": "code",
   "execution_count": 9,
   "metadata": {
    "collapsed": true
   },
   "outputs": [],
   "source": [
    "np.save(data_path + 'R.npy', R)\n",
    "np.save(data_path + 'X.npy', X)"
   ]
  },
  {
   "cell_type": "code",
   "execution_count": null,
   "metadata": {
    "collapsed": true
   },
   "outputs": [],
   "source": []
  }
 ],
 "metadata": {
  "kernelspec": {
   "display_name": "Python 3",
   "language": "python",
   "name": "python3"
  },
  "language_info": {
   "codemirror_mode": {
    "name": "ipython",
    "version": 3
   },
   "file_extension": ".py",
   "mimetype": "text/x-python",
   "name": "python",
   "nbconvert_exporter": "python",
   "pygments_lexer": "ipython3",
   "version": "3.6.1"
  }
 },
 "nbformat": 4,
 "nbformat_minor": 2
}
