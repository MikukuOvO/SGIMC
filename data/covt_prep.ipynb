{
 "cells": [
  {
   "cell_type": "code",
   "execution_count": null,
   "metadata": {
    "collapsed": true
   },
   "outputs": [],
   "source": [
    "# bzip2 -d covtype.scale01.bz2"
   ]
  },
  {
   "cell_type": "code",
   "execution_count": 1,
   "metadata": {
    "collapsed": true
   },
   "outputs": [],
   "source": [
    "import numpy as np\n",
    "import pandas as pd\n",
    "import matplotlib.pyplot as plt\n",
    "\n",
    "%matplotlib inline"
   ]
  },
  {
   "cell_type": "code",
   "execution_count": 2,
   "metadata": {
    "collapsed": true
   },
   "outputs": [],
   "source": [
    "data_path = '/home/dustpelt/Desktop/imc_exp_data/covtype/'\n",
    "data = pd.read_csv(data_path + 'covtype.scale01', sep = ' ', header=None)\n",
    "data.drop(columns=[data.columns[-1]], inplace=True)"
   ]
  },
  {
   "cell_type": "code",
   "execution_count": 3,
   "metadata": {},
   "outputs": [
    {
     "data": {
      "text/html": [
       "<div>\n",
       "<style scoped>\n",
       "    .dataframe tbody tr th:only-of-type {\n",
       "        vertical-align: middle;\n",
       "    }\n",
       "\n",
       "    .dataframe tbody tr th {\n",
       "        vertical-align: top;\n",
       "    }\n",
       "\n",
       "    .dataframe thead th {\n",
       "        text-align: right;\n",
       "    }\n",
       "</style>\n",
       "<table border=\"1\" class=\"dataframe\">\n",
       "  <thead>\n",
       "    <tr style=\"text-align: right;\">\n",
       "      <th></th>\n",
       "      <th>0</th>\n",
       "      <th>1</th>\n",
       "      <th>2</th>\n",
       "      <th>3</th>\n",
       "      <th>4</th>\n",
       "      <th>5</th>\n",
       "      <th>6</th>\n",
       "      <th>7</th>\n",
       "      <th>8</th>\n",
       "      <th>9</th>\n",
       "      <th>10</th>\n",
       "      <th>11</th>\n",
       "      <th>12</th>\n",
       "    </tr>\n",
       "  </thead>\n",
       "  <tbody>\n",
       "    <tr>\n",
       "      <th>0</th>\n",
       "      <td>5</td>\n",
       "      <td>1:0.368684</td>\n",
       "      <td>2:0.141667</td>\n",
       "      <td>3:0.0454545</td>\n",
       "      <td>4:0.184681</td>\n",
       "      <td>5:0.223514</td>\n",
       "      <td>6:0.0716594</td>\n",
       "      <td>7:0.870079</td>\n",
       "      <td>8:0.913386</td>\n",
       "      <td>9:0.582677</td>\n",
       "      <td>10:0.875366</td>\n",
       "      <td>11:1</td>\n",
       "      <td>43:1</td>\n",
       "    </tr>\n",
       "    <tr>\n",
       "      <th>1</th>\n",
       "      <td>5</td>\n",
       "      <td>1:0.365683</td>\n",
       "      <td>2:0.155556</td>\n",
       "      <td>3:0.030303</td>\n",
       "      <td>4:0.151754</td>\n",
       "      <td>5:0.215762</td>\n",
       "      <td>6:0.0547984</td>\n",
       "      <td>7:0.866142</td>\n",
       "      <td>8:0.925197</td>\n",
       "      <td>9:0.594488</td>\n",
       "      <td>10:0.867838</td>\n",
       "      <td>11:1</td>\n",
       "      <td>43:1</td>\n",
       "    </tr>\n",
       "    <tr>\n",
       "      <th>2</th>\n",
       "      <td>2</td>\n",
       "      <td>1:0.472736</td>\n",
       "      <td>2:0.386111</td>\n",
       "      <td>3:0.136364</td>\n",
       "      <td>4:0.19184</td>\n",
       "      <td>5:0.307494</td>\n",
       "      <td>6:0.446817</td>\n",
       "      <td>7:0.92126</td>\n",
       "      <td>8:0.937008</td>\n",
       "      <td>9:0.531496</td>\n",
       "      <td>10:0.853339</td>\n",
       "      <td>11:1</td>\n",
       "      <td>26:1</td>\n",
       "    </tr>\n",
       "    <tr>\n",
       "      <th>3</th>\n",
       "      <td>2</td>\n",
       "      <td>1:0.463232</td>\n",
       "      <td>2:0.430556</td>\n",
       "      <td>3:0.272727</td>\n",
       "      <td>4:0.173228</td>\n",
       "      <td>5:0.375969</td>\n",
       "      <td>6:0.434172</td>\n",
       "      <td>7:0.937008</td>\n",
       "      <td>8:0.937008</td>\n",
       "      <td>9:0.480315</td>\n",
       "      <td>10:0.865886</td>\n",
       "      <td>11:1</td>\n",
       "      <td>44:1</td>\n",
       "    </tr>\n",
       "    <tr>\n",
       "      <th>4</th>\n",
       "      <td>5</td>\n",
       "      <td>1:0.368184</td>\n",
       "      <td>2:0.125</td>\n",
       "      <td>3:0.030303</td>\n",
       "      <td>4:0.10952</td>\n",
       "      <td>5:0.222222</td>\n",
       "      <td>6:0.0549389</td>\n",
       "      <td>7:0.866142</td>\n",
       "      <td>8:0.92126</td>\n",
       "      <td>9:0.590551</td>\n",
       "      <td>10:0.860449</td>\n",
       "      <td>11:1</td>\n",
       "      <td>43:1</td>\n",
       "    </tr>\n",
       "  </tbody>\n",
       "</table>\n",
       "</div>"
      ],
      "text/plain": [
       "   0           1           2            3           4           5   \\\n",
       "0   5  1:0.368684  2:0.141667  3:0.0454545  4:0.184681  5:0.223514   \n",
       "1   5  1:0.365683  2:0.155556   3:0.030303  4:0.151754  5:0.215762   \n",
       "2   2  1:0.472736  2:0.386111   3:0.136364   4:0.19184  5:0.307494   \n",
       "3   2  1:0.463232  2:0.430556   3:0.272727  4:0.173228  5:0.375969   \n",
       "4   5  1:0.368184     2:0.125   3:0.030303   4:0.10952  5:0.222222   \n",
       "\n",
       "            6           7           8           9            10    11    12  \n",
       "0  6:0.0716594  7:0.870079  8:0.913386  9:0.582677  10:0.875366  11:1  43:1  \n",
       "1  6:0.0547984  7:0.866142  8:0.925197  9:0.594488  10:0.867838  11:1  43:1  \n",
       "2   6:0.446817   7:0.92126  8:0.937008  9:0.531496  10:0.853339  11:1  26:1  \n",
       "3   6:0.434172  7:0.937008  8:0.937008  9:0.480315  10:0.865886  11:1  44:1  \n",
       "4  6:0.0549389  7:0.866142   8:0.92126  9:0.590551  10:0.860449  11:1  43:1  "
      ]
     },
     "execution_count": 3,
     "metadata": {},
     "output_type": "execute_result"
    }
   ],
   "source": [
    "data.head()"
   ]
  },
  {
   "cell_type": "code",
   "execution_count": 4,
   "metadata": {
    "collapsed": true
   },
   "outputs": [],
   "source": [
    "def pars_elem(obj):\n",
    "    if obj is None:\n",
    "        return None\n",
    "    elif type(obj) is float:\n",
    "        if np.isnan(obj):\n",
    "            return None\n",
    "        else:\n",
    "            assert False\n",
    "    else:\n",
    "        for i in range(len(obj)):\n",
    "            if obj[i] == ':':\n",
    "                return i"
   ]
  },
  {
   "cell_type": "code",
   "execution_count": 5,
   "metadata": {
    "collapsed": true
   },
   "outputs": [],
   "source": [
    "# initial data\n",
    "data_arr = data.as_matrix()\n",
    "\n",
    "features_arr = data_arr[:,1:]\n",
    "last_ftrs = data_arr[:,-1]\n",
    "\n",
    "atr_arr = data_arr[:,0].astype(dtype='int32')"
   ]
  },
  {
   "cell_type": "code",
   "execution_count": 6,
   "metadata": {
    "collapsed": true
   },
   "outputs": [],
   "source": [
    "# deleting string with nan(s)"
   ]
  },
  {
   "cell_type": "code",
   "execution_count": 7,
   "metadata": {
    "collapsed": true
   },
   "outputs": [],
   "source": [
    "# subsampling\n",
    "uniq_atr, uniq_counts = np.unique(atr_arr, return_counts=True)\n",
    "\n",
    "part_of_elem = 0.4\n",
    "num_of_elem = int(np.min(uniq_counts) * part_of_elem)\n",
    "\n",
    "data_by_atribs = []\n",
    "for atr in uniq_atr:\n",
    "    atr_data = data_arr[data_arr[:,0] == atr,:]\n",
    "    data_by_atribs.append(atr_data)\n",
    "data_by_atribs = np.array(data_by_atribs)\n",
    "\n",
    "subsampled_data = np.zeros((1,data_arr.shape[1]))\n",
    "for atr_data in data_by_atribs:\n",
    "    ids_to_subsmpl = np.unique(np.random.choice(len(atr_data), size=num_of_elem))\n",
    "    subsampled_data = np.concatenate((subsampled_data, atr_data[ids_to_subsmpl,:]), axis=0)\n",
    "    \n",
    "subsampled_data = np.delete(subsampled_data, 0, axis=0)"
   ]
  },
  {
   "cell_type": "code",
   "execution_count": 8,
   "metadata": {
    "collapsed": true
   },
   "outputs": [],
   "source": [
    "# subsampled data\n",
    "data_arr = subsampled_data\n",
    "\n",
    "features_arr = data_arr[:,1:]\n",
    "last_ftrs = data_arr[:,-1]\n",
    "\n",
    "atr_arr = data_arr[:,0].astype(dtype='int32')"
   ]
  },
  {
   "cell_type": "code",
   "execution_count": 9,
   "metadata": {
    "collapsed": true
   },
   "outputs": [],
   "source": [
    "# find the maximal number of feature\n",
    "max_ftr = 0\n",
    "for elem in last_ftrs:\n",
    "    div_idx = pars_elem(elem)\n",
    "    if not div_idx is None:\n",
    "        ftr_idx = int(elem[:div_idx])\n",
    "        if ftr_idx >= max_ftr:\n",
    "            max_ftr = ftr_idx"
   ]
  },
  {
   "cell_type": "code",
   "execution_count": 10,
   "metadata": {
    "collapsed": true
   },
   "outputs": [],
   "source": [
    "# creating matrix of features\n",
    "prep_features_arr = np.zeros((features_arr.shape[0], max_ftr), dtype='float32')\n",
    "\n",
    "for i in range(features_arr.shape[0]):\n",
    "    for j in range(features_arr.shape[1]):\n",
    "        elem = features_arr[i,j]\n",
    "        div_idx = pars_elem(elem)\n",
    "        if not div_idx is None:\n",
    "            ftr_idx = int(elem[:div_idx])\n",
    "            ftr_val = float(elem[div_idx+1:])\n",
    "            prep_features_arr[i, ftr_idx-1] = ftr_val\n",
    "            \n",
    "X = prep_features_arr\n",
    "R = np.zeros((len(data_arr), len(data_arr)))\n",
    "\n",
    "# creating matrix for semi-supervised clustering\n",
    "for i in range(len(atr_arr)):\n",
    "    for j in range(len(atr_arr)):\n",
    "        if atr_arr[i] == atr_arr[j]: R[i,j] = 1\n",
    "        else: R[i,j] = -1"
   ]
  },
  {
   "cell_type": "code",
   "execution_count": 11,
   "metadata": {},
   "outputs": [
    {
     "data": {
      "text/plain": [
       "(7370, 7370)"
      ]
     },
     "execution_count": 11,
     "metadata": {},
     "output_type": "execute_result"
    }
   ],
   "source": [
    "R.shape"
   ]
  },
  {
   "cell_type": "code",
   "execution_count": 12,
   "metadata": {
    "collapsed": true
   },
   "outputs": [],
   "source": [
    "X = np.array(X, dtype='float64')\n",
    "\n",
    "np.save(data_path + 'R.npy', R)\n",
    "np.save(data_path + 'X.npy', X)"
   ]
  },
  {
   "cell_type": "code",
   "execution_count": null,
   "metadata": {
    "collapsed": true
   },
   "outputs": [],
   "source": []
  }
 ],
 "metadata": {
  "kernelspec": {
   "display_name": "Python 3",
   "language": "python",
   "name": "python3"
  },
  "language_info": {
   "codemirror_mode": {
    "name": "ipython",
    "version": 3
   },
   "file_extension": ".py",
   "mimetype": "text/x-python",
   "name": "python",
   "nbconvert_exporter": "python",
   "pygments_lexer": "ipython3",
   "version": "3.6.1"
  }
 },
 "nbformat": 4,
 "nbformat_minor": 2
}
