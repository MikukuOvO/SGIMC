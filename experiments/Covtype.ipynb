{
 "cells": [
  {
   "cell_type": "code",
   "execution_count": 1,
   "metadata": {
    "collapsed": true
   },
   "outputs": [],
   "source": [
    "import numpy as np\n",
    "from tqdm import tqdm\n",
    "\n",
    "%matplotlib inline\n",
    "import matplotlib.pyplot as plt\n",
    "\n",
    "from sgimc.utils import sparsify, sparsify_with_mask\n",
    "\n",
    "from sgimc import IMCProblem\n",
    "\n",
    "from sgimc.qa_objective import QAObjectiveL2Loss\n",
    "from sgimc.qa_objective import QAObjectiveLogLoss\n",
    "from sgimc.qa_objective import QAObjectiveHuberLoss\n",
    "\n",
    "from sgimc.algorithm.admm import sub_0_cg\n",
    "from sgimc.algorithm.admm import sub_0_lbfgs\n",
    "from sgimc.algorithm.admm import sub_m\n",
    "\n",
    "from sgimc import imc_descent\n",
    "from sgimc.utils import performance\n",
    "\n",
    "from sgimc.utils import plot_WH, plot_loss\n",
    "\n",
    "from utils import calculate_loss, invert, accuracy, get_prediction\n",
    "\n",
    "PROBLEM = \"classification\" if True else \"regression\"\n",
    "random_state = np.random.RandomState(0x0BADCAFE)"
   ]
  },
  {
   "cell_type": "code",
   "execution_count": 2,
   "metadata": {
    "collapsed": true
   },
   "outputs": [],
   "source": [
    "from sgimc.algorithm import admm_step\n",
    "from sgimc.algorithm.decoupled import step as decoupled_step\n",
    "\n",
    "def step_qaadmm(problem, W, H, C, eta, method=\"l-bfgs\", sparse=True,\n",
    "                n_iterations=50, rtol=1e-5, atol=1e-8):\n",
    "\n",
    "    approx_type = \"quadratic\" if method in (\"cg\",\"tron\",) else \"linear\"\n",
    "    Obj = problem.objective(W, H, approx_type=approx_type)\n",
    "\n",
    "    return admm_step(Obj, W, C, eta, sparse=sparse, method=method,\n",
    "                     n_iterations=n_iterations, rtol=rtol, atol=atol)\n",
    "\n",
    "def step_decoupled(problem, W, H, C, eta, rtol=1e-5, atol=1e-8):\n",
    "\n",
    "    Obj = problem.objective(W, H, approx_type=\"linear\")\n",
    "\n",
    "    return decoupled_step(Obj, W, C, eta, rtol=rtol, atol=atol)"
   ]
  },
  {
   "cell_type": "code",
   "execution_count": 3,
   "metadata": {
    "collapsed": true
   },
   "outputs": [],
   "source": [
    "step_fn = step_qaadmm\n",
    "# step_fn = step_decoupled"
   ]
  },
  {
   "cell_type": "code",
   "execution_count": 4,
   "metadata": {
    "collapsed": true
   },
   "outputs": [],
   "source": [
    "if PROBLEM == \"classification\":\n",
    "    QAObjectiveLoss = QAObjectiveLogLoss\n",
    "else:\n",
    "    QAObjectiveLoss = QAObjectiveL2Loss  # QAObjectiveHuberLoss"
   ]
  },
  {
   "cell_type": "code",
   "execution_count": 5,
   "metadata": {
    "collapsed": true
   },
   "outputs": [],
   "source": [
    "C_ridge = 1e-4\n",
    "Cs_group = [2e0, 2e-1, 2e-2, 2e-3, 2e-4, 2e-5]\n",
    "eta = 1e0"
   ]
  },
  {
   "cell_type": "markdown",
   "metadata": {},
   "source": [
    "## Parameter to vary"
   ]
  },
  {
   "cell_type": "code",
   "execution_count": 6,
   "metadata": {
    "collapsed": true
   },
   "outputs": [],
   "source": [
    "elements = [0.0005, 0.001, 0.002, 0.003, 0.005, 0.006, 0.008, 0.01]"
   ]
  },
  {
   "cell_type": "markdown",
   "metadata": {},
   "source": [
    "## Data loading"
   ]
  },
  {
   "cell_type": "code",
   "execution_count": 7,
   "metadata": {
    "collapsed": true
   },
   "outputs": [],
   "source": [
    "exp_path = '/nmnt/x04-hdd/boris_temp/SGIMC_IMC/covtype/'\n",
    "R_full = np.load(exp_path + 'R.npy')\n",
    "X = np.array(np.load(exp_path + 'X.npy'), dtype='float64')\n",
    "\n",
    "Y = np.eye(len(R_full))\n",
    "y_mask = np.array(Y, dtype='bool')\n",
    "Y = sparsify_with_mask(Y, y_mask)"
   ]
  },
  {
   "cell_type": "markdown",
   "metadata": {},
   "source": [
    "## K = 5"
   ]
  },
  {
   "cell_type": "code",
   "execution_count": 8,
   "metadata": {
    "collapsed": true
   },
   "outputs": [],
   "source": [
    "K = 5 # K = X.shape[1]\n",
    "n_iter = 100"
   ]
  },
  {
   "cell_type": "code",
   "execution_count": 9,
   "metadata": {},
   "outputs": [
    {
     "name": "stderr",
     "output_type": "stream",
     "text": [
      "100%|██████████| 8/8 [55:44<00:00, 593.24s/it]\n"
     ]
    }
   ],
   "source": [
    "accs = []\n",
    "for n in tqdm(elements):\n",
    "    R_train, mask = sparsify(R_full, n, random_state=random_state)\n",
    "    problem = IMCProblem(QAObjectiveLoss, X, Y, R_train, n_threads=8)\n",
    "\n",
    "    C_accuracies = []\n",
    "    for C_group in Cs_group:\n",
    "        C_lasso = 10 * C_group\n",
    "        C = (C_lasso, C_group, C_ridge)\n",
    "        step_kwargs = {\n",
    "            \"C\": C,                 # the regularizr constants (C_lasso, C_group, C_ridge)\n",
    "            \"eta\": eta,             # the eta of the ADMM (larger - faster but more unstable)\n",
    "            \"rtol\": 1e-2,           # the relative tolerance for stopping the ADMM\n",
    "            \"atol\": 1e-4,           # the absolute tolerance\n",
    "            \"method\": \"tron\",       # the method to use in Sub_0\n",
    "            \"n_iterations\": 2,      # the number of iterations of the inner ADMM\n",
    "        }\n",
    "        \n",
    "        W_0 = random_state.normal(size=(X.shape[1], K))\n",
    "        H_0 = random_state.normal(size=(Y.shape[1], K))\n",
    "\n",
    "        W, H = W_0.copy(), H_0.copy()\n",
    "        \n",
    "        W, H = imc_descent(problem, W, H,\n",
    "                           step_fn,                  # the inner optimization\n",
    "                           step_kwargs=step_kwargs,  # asrtguments for the inner optimizer\n",
    "                           n_iterations=n_iter,      # the number of outer iterations (Gauss-Siedel)\n",
    "                           n_init_iterations=0,\n",
    "                           return_history=True,      # Record the evolution of the matrices (W, H)\n",
    "                           rtol=1e-3,                # relative stopping tolerance for the outer iterations\n",
    "                           atol=1e-5,                # absolute tolerance\n",
    "                           verbose=False,            # show the progress bar\n",
    "                           check_product=True,       # use the product W H' for stopping\n",
    "                           )\n",
    "        \n",
    "        R_hat = get_prediction(X, W, H, Y, binarize=True)\n",
    "        C_accuracies.append(accuracy(R_full, R_hat, invert(mask)))\n",
    "        \n",
    "    accs.append(np.max(C_accuracies))\n",
    "\n",
    "accs = np.array(accs)\n",
    "np.save(exp_path + 'results_sgimc_accuracies.npy', accs)"
   ]
  },
  {
   "cell_type": "markdown",
   "metadata": {},
   "source": [
    "## Evaluation"
   ]
  },
  {
   "cell_type": "code",
   "execution_count": 10,
   "metadata": {},
   "outputs": [
    {
     "data": {
      "image/png": "[encoded data removed]",
      "text/plain": [
       "<matplotlib.figure.Figure at 0x7fd8205b8c18>"
      ]
     },
     "metadata": {},
     "output_type": "display_data"
    }
   ],
   "source": [
    "accuracies_sgimc = np.load(exp_path + 'results_sgimc_accuracies.npy')\n",
    "accuracies_mf = np.load(exp_path + 'results_mf_accuracies.npy')\n",
    "accuracies_imc = np.load(exp_path + 'results_imc_accuracies.npy')\n",
    "\n",
    "plt.figure(figsize=(10,8))\n",
    "plt.plot(elements, accuracies_sgimc, 'b-', label='SGIMC (K = 5)')\n",
    "plt.plot(elements, accuracies_mf, 'g-', label='MF (K = 5)')\n",
    "plt.plot(elements, accuracies_imc, 'r-', label='IMC (K = 5)')\n",
    "plt.ylim((0,1.05))\n",
    "\n",
    "plt.xlabel('Train to all elements ratio')\n",
    "plt.ylabel('Accuracy')\n",
    "plt.legend()\n",
    "\n",
    "plt.show()"
   ]
  },
  {
   "cell_type": "markdown",
   "metadata": {},
   "source": [
    "# TODO:"
   ]
  },
  {
   "cell_type": "markdown",
   "metadata": {
    "collapsed": true
   },
   "source": [
    "Fit the sgimc with np.eye() instead of X and agregated matrix of X and np.eye() instead of X."
   ]
  },
  {
   "cell_type": "code",
   "execution_count": null,
   "metadata": {
    "collapsed": true
   },
   "outputs": [],
   "source": []
  }
 ],
 "metadata": {
  "kernelspec": {
   "display_name": "Python 3",
   "language": "python",
   "name": "python3"
  },
  "language_info": {
   "codemirror_mode": {
    "name": "ipython",
    "version": 3
   },
   "file_extension": ".py",
   "mimetype": "text/x-python",
   "name": "python",
   "nbconvert_exporter": "python",
   "pygments_lexer": "ipython3",
   "version": "3.6.1"
  }
 },
 "nbformat": 4,
 "nbformat_minor": 2
}
