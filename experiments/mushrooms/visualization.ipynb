{
 "cells": [
  {
   "cell_type": "code",
   "execution_count": 1,
   "metadata": {
    "collapsed": true
   },
   "outputs": [],
   "source": [
    "import os\n",
    "import time\n",
    "import warnings\n",
    "from collections import defaultdict\n",
    "\n",
    "import numpy as np\n",
    "import matplotlib.pyplot as plt\n",
    "import matplotlib.lines as mlines\n",
    "%matplotlib inline\n",
    "\n",
    "from sgimc.utils import save, load"
   ]
  },
  {
   "cell_type": "code",
   "execution_count": 2,
   "metadata": {
    "collapsed": true
   },
   "outputs": [],
   "source": [
    "PATH_TO_EXP = '/cobrain/groups/ml_group/experiments/dustpelt/imc_exp/'\n",
    "PATH_DATA = os.path.join(PATH_TO_EXP, 'data/mushrooms')"
   ]
  },
  {
   "cell_type": "code",
   "execution_count": 3,
   "metadata": {
    "collapsed": true
   },
   "outputs": [],
   "source": [
    "def get_final_results(results, param='train_size', hyp_param='C_group'):\n",
    "    # grouping by validation\n",
    "    id_result = {}\n",
    "    param_ids = defaultdict(list)\n",
    "\n",
    "    for _id, result in enumerate(results):\n",
    "        comb = '{}|{}'.format(result[param], result[hyp_param])\n",
    "        param_ids[comb].append(_id)\n",
    "\n",
    "        id_result[_id] = [result[param], result[hyp_param], result['val_score'], result['test_score']]\n",
    "\n",
    "    id_groups = list(param_ids.values())\n",
    "\n",
    "    # averaging the cross-validation results\n",
    "    results_avg = []\n",
    "\n",
    "    for ids in id_groups:\n",
    "        val_res = [id_result[_id] for _id in ids]\n",
    "        avg_res = np.mean(val_res, axis=0)\n",
    "        results_avg.append(avg_res)\n",
    "\n",
    "    results_avg = np.array(results_avg)\n",
    "\n",
    "    # grouping by train_size\n",
    "    id_result = {}\n",
    "    param_ids = defaultdict(list)\n",
    "\n",
    "    for _id, val_res in enumerate(results_avg):\n",
    "        comb = '{}'.format(val_res[0])\n",
    "        param_ids[comb].append(_id)\n",
    "\n",
    "        id_result[_id] = val_res[[0,2,3]]\n",
    "\n",
    "    id_groups = list(param_ids.values())\n",
    "\n",
    "    results_final = []\n",
    "\n",
    "    for ids in id_groups:\n",
    "        param_res = results_avg[ids]\n",
    "        val = [x[2] for x in param_res]\n",
    "        chosen_result = param_res[np.argmax(val)]\n",
    "        results_final.append(chosen_result[[0,3]])\n",
    "\n",
    "    results_final = np.array(results_final)\n",
    "    \n",
    "    return results_final.T"
   ]
  },
  {
   "cell_type": "markdown",
   "metadata": {},
   "source": [
    "## SGIMC"
   ]
  },
  {
   "cell_type": "code",
   "execution_count": 4,
   "metadata": {
    "collapsed": true
   },
   "outputs": [],
   "source": [
    "PATH_ARCH = os.path.join(PATH_DATA, 'arch')\n",
    "\n",
    "filename_results = []\n",
    "filename_results.append(os.path.join(PATH_DATA, 'results.gz'))\n",
    "\n",
    "for fn in os.listdir(PATH_ARCH):\n",
    "    filename_results.append(os.path.join(PATH_ARCH, fn))"
   ]
  },
  {
   "cell_type": "code",
   "execution_count": 5,
   "metadata": {
    "collapsed": true
   },
   "outputs": [],
   "source": [
    "results = []\n",
    "for fn in filename_results:\n",
    "    results.append(load(fn))"
   ]
  },
  {
   "cell_type": "code",
   "execution_count": 6,
   "metadata": {
    "collapsed": true
   },
   "outputs": [],
   "source": [
    "results_final = []\n",
    "for result in results:\n",
    "    results_final.append(get_final_results(result))\n",
    "results_final = np.array(results_final)\n",
    "results_sgimc = np.mean(results_final, axis=0)"
   ]
  },
  {
   "cell_type": "markdown",
   "metadata": {
    "collapsed": true
   },
   "source": [
    "## IMC"
   ]
  },
  {
   "cell_type": "code",
   "execution_count": 7,
   "metadata": {
    "collapsed": true
   },
   "outputs": [],
   "source": [
    "PATH_ARCH = os.path.join(PATH_DATA, 'arch_imc')\n",
    "\n",
    "filename_results = []\n",
    "filename_results.append(os.path.join(PATH_DATA, 'results_imc.gz'))\n",
    "\n",
    "for fn in os.listdir(PATH_ARCH):\n",
    "    filename_results.append(os.path.join(PATH_ARCH, fn))"
   ]
  },
  {
   "cell_type": "code",
   "execution_count": 8,
   "metadata": {
    "collapsed": true
   },
   "outputs": [],
   "source": [
    "results = []\n",
    "for fn in filename_results:\n",
    "    results.append(load(fn))"
   ]
  },
  {
   "cell_type": "code",
   "execution_count": 9,
   "metadata": {
    "collapsed": true
   },
   "outputs": [],
   "source": [
    "results_final = []\n",
    "for result in results:\n",
    "    results_final.append(get_final_results(result, hyp_param='lamb'))\n",
    "results_final = np.array(results_final)\n",
    "results_imc = np.mean(results_final, axis=0)"
   ]
  },
  {
   "cell_type": "markdown",
   "metadata": {},
   "source": [
    "## MF"
   ]
  },
  {
   "cell_type": "code",
   "execution_count": 10,
   "metadata": {
    "collapsed": true
   },
   "outputs": [],
   "source": [
    "PATH_ARCH = os.path.join(PATH_DATA, 'arch_mf')\n",
    "\n",
    "filename_results = []\n",
    "filename_results.append(os.path.join(PATH_DATA, 'results_mf.gz'))\n",
    "\n",
    "for fn in os.listdir(PATH_ARCH):\n",
    "    filename_results.append(os.path.join(PATH_ARCH, fn))"
   ]
  },
  {
   "cell_type": "code",
   "execution_count": 11,
   "metadata": {
    "collapsed": true
   },
   "outputs": [],
   "source": [
    "results = []\n",
    "for fn in filename_results:\n",
    "    results.append(load(fn))"
   ]
  },
  {
   "cell_type": "code",
   "execution_count": 12,
   "metadata": {
    "collapsed": true
   },
   "outputs": [],
   "source": [
    "results_final = []\n",
    "for result in results:\n",
    "    results_final.append(get_final_results(result, hyp_param='reg'))\n",
    "results_final = np.array(results_final)\n",
    "results_mf = np.mean(results_final, axis=0)"
   ]
  },
  {
   "cell_type": "markdown",
   "metadata": {},
   "source": [
    "## Plots"
   ]
  },
  {
   "cell_type": "code",
   "execution_count": 13,
   "metadata": {},
   "outputs": [
    {
     "data": {
      "image/png": "[encoded data removed]",
      "text/plain": [
       "<matplotlib.figure.Figure at 0x7fbe05b63cc0>"
      ]
     },
     "metadata": {},
     "output_type": "display_data"
    }
   ],
   "source": [
    "plt.figure(figsize=(10,8))\n",
    "\n",
    "# lines\n",
    "sgimc_line = mlines.Line2D([], [], color='blue', marker='o', linewidth=2.5,\n",
    "                           markersize=10, label='SGIMC')\n",
    "imc_line = mlines.Line2D([], [], color='red', marker='s', linewidth=2.5,\n",
    "                         markersize=10, label='IMC')\n",
    "mf_line = mlines.Line2D([], [], color='green', marker='^', linewidth=2.5,\n",
    "                        markersize=10, label='MF')\n",
    "\n",
    "skip = 2\n",
    "stop = -6\n",
    "\n",
    "# curves\n",
    "plt.plot(results_sgimc[0][:stop:skip], results_sgimc[1][:stop:skip], 'b-', label='SGIMC', linewidth=2.5)\n",
    "plt.plot(results_imc[0][:stop:skip], results_imc[1][:stop:skip], 'r-', label='IMC', linewidth=2.5)\n",
    "plt.plot(results_mf[0][:stop:skip], results_mf[1][:stop:skip], 'g-', label='MF', linewidth=2.5)\n",
    "\n",
    "# dotes\n",
    "plt.plot(results_sgimc[0][:stop:skip], results_sgimc[1][:stop:skip], 'bo', label='SGIMC', linewidth=2.5)\n",
    "plt.plot(results_imc[0][:stop:skip], results_imc[1][:stop:skip], 'rs', label='IMC', linewidth=2.5)\n",
    "plt.plot(results_mf[0][:stop:skip], results_mf[1][:stop:skip], 'r^', label='MF', linewidth=2.5)\n",
    "\n",
    "# specify axis limits and labels\n",
    "plt.ylim((0.4,1.02))\n",
    "plt.xlabel('Train to all elements ratio', fontsize=20)\n",
    "plt.ylabel('ROC-AUC score', fontsize=20)\n",
    "\n",
    "# ticks\n",
    "plt.xticks([0, 2e-4, 4e-4, 6e-4, 8e-4], fontsize=16)\n",
    "plt.yticks(fontsize=16)\n",
    "\n",
    "# legend\n",
    "plt.legend(handles=[sgimc_line, imc_line, mf_line], fontsize=20, loc=4)\n",
    "\n",
    "# save figure\n",
    "# plt.savefig('/cobrain/home/Dustpelt/SGIMC/plots/mushrooms.pdf', dpi=200, bbox_inches='tight')\n",
    "\n",
    "plt.show()"
   ]
  },
  {
   "cell_type": "code",
   "execution_count": null,
   "metadata": {
    "collapsed": true
   },
   "outputs": [],
   "source": []
  }
 ],
 "metadata": {
  "kernelspec": {
   "display_name": "Python 3",
   "language": "python",
   "name": "python3"
  },
  "language_info": {
   "codemirror_mode": {
    "name": "ipython",
    "version": 3
   },
   "file_extension": ".py",
   "mimetype": "text/x-python",
   "name": "python",
   "nbconvert_exporter": "python",
   "pygments_lexer": "ipython3",
   "version": "3.6.3"
  }
 },
 "nbformat": 4,
 "nbformat_minor": 2
}
