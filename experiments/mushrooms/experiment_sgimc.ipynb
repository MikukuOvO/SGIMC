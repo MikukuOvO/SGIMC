{
 "cells": [
  {
   "cell_type": "markdown",
   "metadata": {},
   "source": [
    "# Running experiments on the Mushroom dataset"
   ]
  },
  {
   "cell_type": "code",
   "execution_count": 1,
   "metadata": {},
   "outputs": [],
   "source": [
    "import os\n",
    "import time\n",
    "import warnings\n",
    "\n",
    "%matplotlib inline\n",
    "import matplotlib.pyplot as plt\n",
    "\n",
    "import numpy as np\n",
    "\n",
    "from tqdm import TqdmSynchronisationWarning\n",
    "warnings.simplefilter(\"ignore\", TqdmSynchronisationWarning)"
   ]
  },
  {
   "cell_type": "markdown",
   "metadata": {},
   "source": [
    "The paths"
   ]
  },
  {
   "cell_type": "code",
   "execution_count": 2,
   "metadata": {},
   "outputs": [],
   "source": [
    "PATH_DATA = \"../data/mushrooms\"\n",
    "\n",
    "PATH_ARCHIVE = os.path.join(PATH_DATA, \"arch\")\n",
    "if not os.path.isdir(PATH_ARCHIVE):\n",
    "    os.mkdir(PATH_ARCHIVE)"
   ]
  },
  {
   "cell_type": "markdown",
   "metadata": {},
   "source": [
    "Filenames"
   ]
  },
  {
   "cell_type": "code",
   "execution_count": 3,
   "metadata": {},
   "outputs": [],
   "source": [
    "filenames = {\n",
    "    \"input\": \"staged_dataset.gz\",\n",
    "    \"output\": \"results.gz\"\n",
    "}"
   ]
  },
  {
   "cell_type": "markdown",
   "metadata": {},
   "source": [
    "The dataset and results"
   ]
  },
  {
   "cell_type": "code",
   "execution_count": 4,
   "metadata": {},
   "outputs": [],
   "source": [
    "filename_input = os.path.join(PATH_DATA, filenames[\"input\"])\n",
    "\n",
    "filename_output = os.path.join(PATH_DATA, filenames[\"output\"])\n",
    "\n",
    "if os.path.exists(filename_output):\n",
    "    mdttm = time.strftime(\"%Y%m%d%H%M%S\", time.gmtime(os.path.getmtime(filename_input)))\n",
    "    os.rename(filename_output, os.path.join(PATH_ARCHIVE, \"%s%s\" % (filenames[\"output\"], mdttm)))"
   ]
  },
  {
   "cell_type": "markdown",
   "metadata": {},
   "source": [
    "The train-test splitting"
   ]
  },
  {
   "cell_type": "code",
   "execution_count": 5,
   "metadata": {},
   "outputs": [],
   "source": [
    "from sklearn.utils import check_random_state\n",
    "from sklearn.model_selection._split import _validate_shuffle_split\n",
    "\n",
    "\n",
    "def mc_split(R, n_splits=1, test_size='default', train_size=None, random_state=None):\n",
    "    n_samples = np.prod(R.shape)\n",
    "    n_train, n_test = _validate_shuffle_split(n_samples, test_size, train_size)\n",
    "\n",
    "    rng = check_random_state(random_state)\n",
    "    for i in range(n_splits):\n",
    "        permutation = rng.permutation(n_samples)\n",
    "        ind_test = permutation[:n_test]\n",
    "        ind_train = permutation[n_test:(n_test + n_train)]\n",
    "\n",
    "        yield ind_train, ind_test"
   ]
  },
  {
   "cell_type": "markdown",
   "metadata": {},
   "source": [
    "A helper function to extract a sparse submatrix from a dense one accorind to the provided indices."
   ]
  },
  {
   "cell_type": "code",
   "execution_count": 6,
   "metadata": {},
   "outputs": [],
   "source": [
    "from scipy.sparse import coo_matrix\n",
    "\n",
    "\n",
    "def get_submatrix(mat, indices):\n",
    "    nz_ij = np.unravel_index(indices, mat.shape)\n",
    "    subm = coo_matrix((mat.flat[indices], nz_ij), shape=mat.shape)\n",
    "    return subm.tocsr()"
   ]
  },
  {
   "cell_type": "markdown",
   "metadata": {},
   "source": [
    "The scores collected in the experiment"
   ]
  },
  {
   "cell_type": "code",
   "execution_count": 7,
   "metadata": {},
   "outputs": [],
   "source": [
    "from sklearn.metrics import roc_auc_score\n",
    "# from sklearn.metrics import confusion_matrix\n",
    "\n",
    "\n",
    "def mc_get_scores(R_true, R_prob):\n",
    "    R_pred = np.where(R_prob.data > 0.5, 1, -1)\n",
    "\n",
    "    # compute the confusion matrix for ±1 labels (`-1` is negative)\n",
    "    ii, jj = ((R_pred + 1) // 2).astype(int), ((R_true.data + 1) // 2).astype(int)\n",
    "    cnfsn = coo_matrix((np.ones_like(ii), (ii, jj)), dtype=np.int64).toarray()\n",
    "\n",
    "    return {\"tn\": cnfsn[0, 0], \"fn\": cnfsn[1, 0],\n",
    "            \"fp\": cnfsn[0, 1], \"tp\": cnfsn[1, 1],\n",
    "            \"auc\": roc_auc_score(R_true.data, R_prob.data)}"
   ]
  },
  {
   "cell_type": "markdown",
   "metadata": {},
   "source": [
    "Fix the seed"
   ]
  },
  {
   "cell_type": "code",
   "execution_count": 8,
   "metadata": {},
   "outputs": [],
   "source": [
    "random_state = np.random.RandomState(0x0BADCAFE)"
   ]
  },
  {
   "cell_type": "markdown",
   "metadata": {},
   "source": [
    "Load the dataset"
   ]
  },
  {
   "cell_type": "code",
   "execution_count": 9,
   "metadata": {},
   "outputs": [],
   "source": [
    "import gzip\n",
    "import pickle\n",
    "\n",
    "with gzip.open(filename_input, \"rb\") as fin:\n",
    "    X, Y, R_full = pickle.load(fin)"
   ]
  },
  {
   "cell_type": "markdown",
   "metadata": {},
   "source": [
    "Get the development and test datasets"
   ]
  },
  {
   "cell_type": "code",
   "execution_count": 10,
   "metadata": {},
   "outputs": [],
   "source": [
    "from sklearn.model_selection import train_test_split\n",
    "\n",
    "ind_dvlp, ind_test = next(mc_split(R_full, n_splits=1, random_state=random_state,\n",
    "                                   test_size=0.25))\n",
    "\n",
    "R_test = get_submatrix(R_full, ind_test)"
   ]
  },
  {
   "cell_type": "markdown",
   "metadata": {},
   "source": [
    "Set up the parameter grid"
   ]
  },
  {
   "cell_type": "code",
   "execution_count": 11,
   "metadata": {},
   "outputs": [],
   "source": [
    "from sklearn.model_selection import ParameterGrid\n",
    "\n",
    "grid_dataset = ParameterGrid({\n",
    "    \"train_size\": np.arange(0.00001, 0.001001, 0.00003),  # [1e-3],\n",
    "    \"test_size\": [0.1],\n",
    "    \"n_splits\": [3],\n",
    "})\n",
    "\n",
    "grid_model = ParameterGrid({\n",
    "    \"lasso_mlt\": [1e1],\n",
    "    \"C_group\": [2e-5, 2e-4, 2e-3],\n",
    "    \"C_ridge\": [1e-3],\n",
    "    \"rank\": [5]\n",
    "})"
   ]
  },
  {
   "cell_type": "markdown",
   "metadata": {},
   "source": [
    "Load the Sparse Group IMC class for binary classification."
   ]
  },
  {
   "cell_type": "code",
   "execution_count": 12,
   "metadata": {},
   "outputs": [],
   "source": [
    "from sgimc import SparseGroupIMCClassifier"
   ]
  },
  {
   "cell_type": "markdown",
   "metadata": {},
   "source": [
    "Run the experiment: fit the IMC model on a train, and compute scores on a validation set"
   ]
  },
  {
   "cell_type": "code",
   "execution_count": 13,
   "metadata": {},
   "outputs": [
    {
     "name": "stderr",
     "output_type": "stream",
     "text": [
      "100%|██████████| 34/34 [1:46:30<00:00, 187.97s/it]\n"
     ]
    }
   ],
   "source": [
    "import tqdm\n",
    "from sklearn.model_selection import ShuffleSplit\n",
    "\n",
    "\n",
    "results = []\n",
    "for par_dtst in tqdm.tqdm(grid_dataset):\n",
    "\n",
    "    splt = ShuffleSplit(**par_dtst, random_state=random_state)\n",
    "    for cv, (ind_train, ind_valid) in enumerate(splt.split(ind_dvlp)):\n",
    "\n",
    "        # prepare the train and test indices\n",
    "        ind_train, ind_valid = ind_dvlp[ind_train], ind_dvlp[ind_valid]\n",
    "        R_train = get_submatrix(R_full, ind_train)\n",
    "        R_valid = get_submatrix(R_full, ind_valid)\n",
    "\n",
    "        # Run the experiment: the model \n",
    "        for par_mdl in grid_model:  # tqdm.tqdm(, desc=\"cv %02d\" % (cv,))\n",
    "\n",
    "            # fit the model\n",
    "            C_lasso = par_mdl[\"lasso_mlt\"] * par_mdl[\"C_group\"]\n",
    "            C_group, C_ridge = par_mdl[\"C_group\"], par_mdl[\"C_ridge\"]\n",
    "            imc = SparseGroupIMCClassifier(par_mdl[\"rank\"], n_threads=3, random_state=42,\n",
    "                                           C_lasso=C_lasso, C_group=C_group, C_ridge=C_ridge)\n",
    "            imc.fit(X, Y, R_train)\n",
    "\n",
    "            # compute the class probabilities\n",
    "            prob_full = imc.predict_proba(X, Y)  # uses own copies of W, H\n",
    "            prob_valid = get_submatrix(prob_full, ind_valid)\n",
    "            prob_test = get_submatrix(prob_full, ind_test)\n",
    "\n",
    "            scores_valid = mc_get_scores(R_valid, prob_valid)\n",
    "            scores_test = mc_get_scores(R_test, prob_test)\n",
    "\n",
    "            # record the results\n",
    "            results.append((par_dtst, cv, par_mdl, scores_valid, scores_test))\n",
    "        # end for\n",
    "    # end for\n",
    "# end for"
   ]
  },
  {
   "cell_type": "markdown",
   "metadata": {},
   "source": [
    "Save the results in a pickle."
   ]
  },
  {
   "cell_type": "code",
   "execution_count": 14,
   "metadata": {
    "scrolled": false
   },
   "outputs": [],
   "source": [
    "with gzip.open(filename_output, \"wb+\", 4) as fout:\n",
    "    pickle.dump(results, fout)"
   ]
  },
  {
   "cell_type": "markdown",
   "metadata": {},
   "source": [
    "<br/>\n",
    "<hr/>"
   ]
  }
 ],
 "metadata": {
  "kernelspec": {
   "display_name": "Python 3",
   "language": "python",
   "name": "python3"
  },
  "language_info": {
   "codemirror_mode": {
    "name": "ipython",
    "version": 3
   },
   "file_extension": ".py",
   "mimetype": "text/x-python",
   "name": "python",
   "nbconvert_exporter": "python",
   "pygments_lexer": "ipython3",
   "version": "3.6.4"
  }
 },
 "nbformat": 4,
 "nbformat_minor": 2
}
