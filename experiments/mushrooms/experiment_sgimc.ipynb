{
 "cells": [
  {
   "cell_type": "markdown",
   "metadata": {},
   "source": [
    "# Running experiments on the Mushroom dataset"
   ]
  },
  {
   "cell_type": "code",
   "execution_count": 1,
   "metadata": {
    "collapsed": true
   },
   "outputs": [],
   "source": [
    "import os\n",
    "import time\n",
    "import gzip\n",
    "import pickle\n",
    "import warnings\n",
    "\n",
    "%matplotlib inline\n",
    "import matplotlib.pyplot as plt\n",
    "\n",
    "import numpy as np\n",
    "\n",
    "from tqdm import TqdmSynchronisationWarning\n",
    "warnings.simplefilter(\"ignore\", TqdmSynchronisationWarning)"
   ]
  },
  {
   "cell_type": "markdown",
   "metadata": {},
   "source": [
    "The paths"
   ]
  },
  {
   "cell_type": "code",
   "execution_count": 2,
   "metadata": {
    "collapsed": true
   },
   "outputs": [],
   "source": [
    "PATH_TO_EXP = '/cobrain/groups/ml_group/experiments/dustpelt/imc_exp/'\n",
    "PATH_DATA = os.path.join(PATH_TO_EXP, 'data/mushrooms')\n",
    "#PATH_DATA = \"../data/mushrooms\"\n",
    "\n",
    "PATH_ARCHIVE = os.path.join(PATH_DATA, \"arch_sgimc\")\n",
    "if not os.path.isdir(PATH_ARCHIVE):\n",
    "    os.mkdir(PATH_ARCHIVE)"
   ]
  },
  {
   "cell_type": "markdown",
   "metadata": {},
   "source": [
    "Filenames"
   ]
  },
  {
   "cell_type": "code",
   "execution_count": 3,
   "metadata": {
    "collapsed": true
   },
   "outputs": [],
   "source": [
    "filenames = {\n",
    "    \"input\": \"staged_dataset.gz\",\n",
    "    \"output\": \"results_sgimc.gz\"\n",
    "}"
   ]
  },
  {
   "cell_type": "markdown",
   "metadata": {},
   "source": [
    "The dataset and results"
   ]
  },
  {
   "cell_type": "code",
   "execution_count": 4,
   "metadata": {
    "collapsed": true
   },
   "outputs": [],
   "source": [
    "filename_input = os.path.join(PATH_DATA, filenames[\"input\"])\n",
    "\n",
    "filename_output = os.path.join(PATH_DATA, filenames[\"output\"])\n",
    "\n",
    "if os.path.exists(filename_output):\n",
    "    mdttm = time.strftime(\"%Y%m%d_%H%M%S\")\n",
    "    os.rename(filename_output, os.path.join(PATH_ARCHIVE, \"%s%s\" % (mdttm, filenames[\"output\"])))"
   ]
  },
  {
   "cell_type": "markdown",
   "metadata": {},
   "source": [
    "The train-test splitting"
   ]
  },
  {
   "cell_type": "code",
   "execution_count": 5,
   "metadata": {
    "collapsed": true
   },
   "outputs": [],
   "source": [
    "from sgimc.utils import mc_split"
   ]
  },
  {
   "cell_type": "markdown",
   "metadata": {},
   "source": [
    "A helper function to extract a sparse submatrix from a dense one accorind to the provided indices."
   ]
  },
  {
   "cell_type": "code",
   "execution_count": 6,
   "metadata": {
    "collapsed": true
   },
   "outputs": [],
   "source": [
    "from sgimc.utils import get_submatrix"
   ]
  },
  {
   "cell_type": "markdown",
   "metadata": {},
   "source": [
    "The scores collected in the experiment"
   ]
  },
  {
   "cell_type": "code",
   "execution_count": 7,
   "metadata": {
    "collapsed": true
   },
   "outputs": [],
   "source": [
    "from sklearn.metrics import confusion_matrix\n",
    "from sklearn.metrics import roc_auc_score\n",
    "from scipy.sparse import coo_matrix\n",
    "\n",
    "\n",
    "def mc_get_scores(R_true, R_prob):\n",
    "    R_pred = np.where(R_prob.data > 0.5, 1, -1)\n",
    "\n",
    "    # compute the confusion matrix for ±1 labels (`-1` is negative)\n",
    "    ii, jj = ((R_pred + 1) // 2).astype(int), ((R_true.data + 1) // 2).astype(int)\n",
    "    cnfsn = confusion_matrix(y_true=jj, y_pred=ii)\n",
    "\n",
    "    return {\"tn\": cnfsn[0, 0], \"fn\": cnfsn[1, 0],\n",
    "            \"fp\": cnfsn[0, 1], \"tp\": cnfsn[1, 1],\n",
    "            \"auc\": roc_auc_score(R_true.data, R_prob.data)}"
   ]
  },
  {
   "cell_type": "markdown",
   "metadata": {},
   "source": [
    "Fix the seed"
   ]
  },
  {
   "cell_type": "code",
   "execution_count": 8,
   "metadata": {
    "collapsed": true
   },
   "outputs": [],
   "source": [
    "random_state = np.random.RandomState(0x0BADCAFE)"
   ]
  },
  {
   "cell_type": "markdown",
   "metadata": {},
   "source": [
    "Load the dataset"
   ]
  },
  {
   "cell_type": "code",
   "execution_count": 14,
   "metadata": {
    "collapsed": true
   },
   "outputs": [],
   "source": [
    "from sgimc.utils import load, save\n",
    "\n",
    "X, Y, R_full = load(filename_input)"
   ]
  },
  {
   "cell_type": "markdown",
   "metadata": {},
   "source": [
    "Get the development and test datasets"
   ]
  },
  {
   "cell_type": "code",
   "execution_count": 10,
   "metadata": {
    "collapsed": true
   },
   "outputs": [],
   "source": [
    "dvlp_size, test_size = 0.9, 0.1\n",
    "\n",
    "ind_dvlp, ind_test = next(mc_split(R_full, n_splits=1, random_state=random_state,\n",
    "                                   train_size=dvlp_size, test_size=test_size))\n",
    "\n",
    "R_test = get_submatrix(R_full, ind_test)"
   ]
  },
  {
   "cell_type": "markdown",
   "metadata": {},
   "source": [
    "Set up the parameter grid"
   ]
  },
  {
   "cell_type": "code",
   "execution_count": 11,
   "metadata": {
    "collapsed": true
   },
   "outputs": [],
   "source": [
    "from sklearn.model_selection import ParameterGrid\n",
    "\n",
    "grid_dataset = ParameterGrid({\n",
    "    \"train_size\": np.arange(0.00001, 0.001001, 0.00003),\n",
    "    \"n_splits\": [5],\n",
    "})\n",
    "\n",
    "grid_model = ParameterGrid({\n",
    "    \"C_lasso\": [0],\n",
    "    \"C_group\": [2e-5, 2e-4, 2e-3],\n",
    "    \"C_ridge\": [1e-5],\n",
    "    \"rank\": [5]\n",
    "})"
   ]
  },
  {
   "cell_type": "markdown",
   "metadata": {},
   "source": [
    "Load the Sparse Group IMC class for binary classification."
   ]
  },
  {
   "cell_type": "code",
   "execution_count": 12,
   "metadata": {
    "collapsed": true
   },
   "outputs": [],
   "source": [
    "from sgimc import SparseGroupIMCClassifier"
   ]
  },
  {
   "cell_type": "markdown",
   "metadata": {},
   "source": [
    "Run the experiment: fit the IMC model on a train, and compute scores on a validation set"
   ]
  },
  {
   "cell_type": "code",
   "execution_count": 13,
   "metadata": {
    "scrolled": true
   },
   "outputs": [
    {
     "name": "stderr",
     "output_type": "stream",
     "text": [
      "100%|██████████| 34/34 [1:39:47<00:00, 176.10s/it]\n"
     ]
    }
   ],
   "source": [
    "from tqdm import tqdm\n",
    "from sklearn.model_selection import ShuffleSplit, KFold\n",
    "from sklearn.model_selection import train_test_split\n",
    "\n",
    "\n",
    "results = []\n",
    "for par_dtst in tqdm(grid_dataset):\n",
    "    # prepare the train dataset: take the specified share from the beginnig of the index array\n",
    "    ind_train_all, _ = train_test_split(ind_dvlp, shuffle=False, random_state=random_state,\n",
    "                                        test_size=(1 - (par_dtst[\"train_size\"] / dvlp_size)))\n",
    "\n",
    "    # Run the experiment: the model \n",
    "    for par_mdl in grid_model:  # tqdm.tqdm(, desc=\"cv %02d\" % (cv,))\n",
    "        # set up the model\n",
    "        C_lasso, C_group, C_ridge = par_mdl[\"C_lasso\"], par_mdl[\"C_group\"], par_mdl[\"C_ridge\"]\n",
    "        imc = SparseGroupIMCClassifier(par_mdl[\"rank\"], n_threads=4, random_state=42,\n",
    "                                       C_lasso=C_lasso, C_group=C_group, C_ridge=C_ridge)\n",
    "\n",
    "        # fit on the whole development dataset\n",
    "        R_train = get_submatrix(R_full, ind_train_all)\n",
    "        imc.fit(X, Y, R_train)\n",
    "\n",
    "        # get the score\n",
    "        prob_full = imc.predict_proba(X, Y)\n",
    "        prob_test = get_submatrix(prob_full, ind_test)\n",
    "        scores_test = mc_get_scores(R_test, prob_test)\n",
    "\n",
    "        # run the k-fold CV\n",
    "        # splt = ShuffleSplit(**par_dtst, random_state=random_state)\n",
    "        splt = KFold(par_dtst[\"n_splits\"], shuffle=True, random_state=random_state)\n",
    "        for cv, (ind_train, ind_valid) in enumerate(splt.split(ind_train_all)):\n",
    "\n",
    "            # prepare the train and test indices\n",
    "            ind_train, ind_valid = ind_train_all[ind_train], ind_train_all[ind_valid]\n",
    "            R_train = get_submatrix(R_full, ind_train)\n",
    "            R_valid = get_submatrix(R_full, ind_valid)\n",
    "\n",
    "            # fit the model\n",
    "            imc = SparseGroupIMCClassifier(par_mdl[\"rank\"], n_threads=4, random_state=42,\n",
    "                                           C_lasso=C_lasso, C_group=C_group, C_ridge=C_ridge)\n",
    "            imc.fit(X, Y, R_train)\n",
    "\n",
    "            # compute the class probabilities\n",
    "            prob_full = imc.predict_proba(X, Y)  # uses own copies of W, H\n",
    "            prob_valid = get_submatrix(prob_full, ind_valid)\n",
    "\n",
    "            scores_valid = mc_get_scores(R_valid, prob_valid)\n",
    "\n",
    "            # record the results\n",
    "            results.append({\"train_size\": par_dtst[\"train_size\"],\n",
    "                            \"C_group\": par_mdl[\"C_group\"],\n",
    "                            \"cv\": cv,\n",
    "                            \"val_score\": scores_valid[\"auc\"],\n",
    "                            \"test_score\": scores_test[\"auc\"]}\n",
    "                          )\n",
    "        # end for\n",
    "    # end for\n",
    "# end for\n",
    "\n",
    "# Save the results in a pickle\n",
    "\n",
    "with gzip.open(filename_output, \"wb+\", 4) as fout:\n",
    "    pickle.dump(results, fout)"
   ]
  },
  {
   "cell_type": "code",
   "execution_count": null,
   "metadata": {
    "collapsed": true
   },
   "outputs": [],
   "source": [
    "# save()"
   ]
  },
  {
   "cell_type": "markdown",
   "metadata": {},
   "source": [
    "<br/>\n",
    "<hr/>"
   ]
  }
 ],
 "metadata": {
  "kernelspec": {
   "display_name": "Python 3",
   "language": "python",
   "name": "python3"
  },
  "language_info": {
   "codemirror_mode": {
    "name": "ipython",
    "version": 3
   },
   "file_extension": ".py",
   "mimetype": "text/x-python",
   "name": "python",
   "nbconvert_exporter": "python",
   "pygments_lexer": "ipython3",
   "version": "3.6.3"
  }
 },
 "nbformat": 4,
 "nbformat_minor": 2
}
