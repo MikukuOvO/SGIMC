{
 "cells": [
  {
   "cell_type": "markdown",
   "metadata": {},
   "source": [
    "## Imports and experiment setup"
   ]
  },
  {
   "cell_type": "code",
   "execution_count": 1,
   "metadata": {
    "collapsed": true
   },
   "outputs": [],
   "source": [
    "%run header.py\n",
    "%matplotlib inline\n",
    "\n",
    "from utils import combine_with_identity"
   ]
  },
  {
   "cell_type": "code",
   "execution_count": 2,
   "metadata": {
    "collapsed": true
   },
   "outputs": [],
   "source": [
    "exp_path = '/nmnt/x04-hdd/boris_temp/SGIMC_IMC/segment/'"
   ]
  },
  {
   "cell_type": "code",
   "execution_count": 3,
   "metadata": {
    "collapsed": true
   },
   "outputs": [],
   "source": [
    "PROBLEM = \"classification\" if True else \"regression\"\n",
    "\n",
    "step_fn = step_qaadmm\n",
    "\n",
    "if PROBLEM == \"classification\":\n",
    "    QAObjectiveLoss = QAObjectiveLogLoss\n",
    "else:\n",
    "    QAObjectiveLoss = QAObjectiveL2Loss  # QAObjectiveHuberLoss"
   ]
  },
  {
   "cell_type": "code",
   "execution_count": 4,
   "metadata": {
    "collapsed": true
   },
   "outputs": [],
   "source": [
    "C_ridge = 1e-4\n",
    "Cs_group = [2e-1, 2e-2, 2e-3, 2e-4, 2e-5]\n",
    "eta = 1e0"
   ]
  },
  {
   "cell_type": "markdown",
   "metadata": {},
   "source": [
    "## Parameter to vary"
   ]
  },
  {
   "cell_type": "code",
   "execution_count": 5,
   "metadata": {
    "collapsed": true
   },
   "outputs": [],
   "source": [
    "elements = [0.0005, 0.001, 0.002, 0.003, 0.005, 0.007, 0.01, 0.015, 0.02]"
   ]
  },
  {
   "cell_type": "markdown",
   "metadata": {},
   "source": [
    "## Data loading"
   ]
  },
  {
   "cell_type": "code",
   "execution_count": 6,
   "metadata": {
    "collapsed": true
   },
   "outputs": [],
   "source": [
    "R_full = np.load(exp_path + 'R.npy')\n",
    "X = np.load(exp_path + 'X.npy')\n",
    "\n",
    "Y = np.eye(len(R_full))\n",
    "y_mask = np.array(Y, dtype='bool')\n",
    "Y = sparsify_with_mask(Y, y_mask)"
   ]
  },
  {
   "cell_type": "markdown",
   "metadata": {},
   "source": [
    "## Run experiment (K = 5 )"
   ]
  },
  {
   "cell_type": "code",
   "execution_count": 7,
   "metadata": {
    "collapsed": true
   },
   "outputs": [],
   "source": [
    "K = 5 # K = X.shape[1]\n",
    "n_iter = 100"
   ]
  },
  {
   "cell_type": "code",
   "execution_count": 9,
   "metadata": {},
   "outputs": [
    {
     "name": "stderr",
     "output_type": "stream",
     "text": [
      "100%|██████████| 9/9 [09:52<00:00, 100.28s/it]\n"
     ]
    }
   ],
   "source": [
    "accs = []\n",
    "for n in tqdm(elements):\n",
    "    R_train, mask = sparsify(R_full, n, random_state=random_state)\n",
    "    problem = IMCProblem(QAObjectiveLoss, X, Y, R_train, n_threads=8)\n",
    "\n",
    "    C_accuracies = []\n",
    "    for C_group in Cs_group:\n",
    "        C_lasso = 10 * C_group\n",
    "        C = (C_lasso, C_group, C_ridge)\n",
    "        step_kwargs = {\n",
    "            \"C\": C,                 # the regularizr constants (C_lasso, C_group, C_ridge)\n",
    "            \"eta\": eta,             # the eta of the ADMM (larger - faster but more unstable)\n",
    "            \"rtol\": 1e-2,           # the relative tolerance for stopping the ADMM\n",
    "            \"atol\": 1e-4,           # the absolute tolerance\n",
    "            \"method\": \"tron\",       # the method to use in Sub_0\n",
    "            \"n_iterations\": 2,      # the number of iterations of the inner ADMM\n",
    "        }\n",
    "\n",
    "        W_0 = random_state.normal(size=(X.shape[1], K))\n",
    "        H_0 = random_state.normal(size=(Y.shape[1], K))\n",
    "\n",
    "        W, H = W_0.copy(), H_0.copy()\n",
    "\n",
    "        W, H = imc_descent(problem, W, H,\n",
    "                           step_fn,                  # the inner optimization\n",
    "                           step_kwargs=step_kwargs,  # asrtguments for the inner optimizer\n",
    "                           n_iterations=n_iter,      # the number of outer iterations (Gauss-Siedel)\n",
    "                           n_init_iterations=0,\n",
    "                           return_history=True,      # Record the evolution of the matrices (W, H)\n",
    "                           rtol=1e-3,                # relative stopping tolerance for the outer iterations\n",
    "                           atol=1e-5,                # absolute tolerance\n",
    "                           verbose=False,            # show the progress bar\n",
    "                           check_product=True,       # use the product W H' for stopping\n",
    "                           )\n",
    "\n",
    "        R_hat = get_prediction(X, W, H, Y, binarize=True)\n",
    "        acc = accuracy(R_full, R_hat, invert(mask))\n",
    "        C_accuracies.append(acc)\n",
    "    accs.append(np.max(C_accuracies))\n",
    "    \n",
    "accs = np.array(accs)\n",
    "np.save(exp_path + 'results_sgimc_accuracies.npy', accs)"
   ]
  },
  {
   "cell_type": "markdown",
   "metadata": {},
   "source": [
    "## Features + identity"
   ]
  },
  {
   "cell_type": "code",
   "execution_count": 8,
   "metadata": {
    "collapsed": true
   },
   "outputs": [],
   "source": [
    "X_comb = combine_with_identity(X)"
   ]
  },
  {
   "cell_type": "code",
   "execution_count": 9,
   "metadata": {},
   "outputs": [
    {
     "name": "stderr",
     "output_type": "stream",
     "text": [
      "100%|██████████| 9/9 [07:21<00:00, 66.36s/it]\n"
     ]
    }
   ],
   "source": [
    "accs = []\n",
    "for n in tqdm(elements):\n",
    "    R_train, mask = sparsify(R_full, n, random_state=random_state)\n",
    "    problem = IMCProblem(QAObjectiveLoss, X_comb, Y, R_train, n_threads=8)\n",
    "\n",
    "    C_accuracies = []\n",
    "    for C_group in Cs_group:\n",
    "        C_lasso = 10 * C_group\n",
    "        C = (C_lasso, C_group, C_ridge)\n",
    "        step_kwargs = {\n",
    "            \"C\": C,                 # the regularizr constants (C_lasso, C_group, C_ridge)\n",
    "            \"eta\": eta,             # the eta of the ADMM (larger - faster but more unstable)\n",
    "            \"rtol\": 1e-2,           # the relative tolerance for stopping the ADMM\n",
    "            \"atol\": 1e-4,           # the absolute tolerance\n",
    "            \"method\": \"tron\",       # the method to use in Sub_0\n",
    "            \"n_iterations\": 2,      # the number of iterations of the inner ADMM\n",
    "        }\n",
    "\n",
    "        W_0 = random_state.normal(size=(X_comb.shape[1], K))\n",
    "        H_0 = random_state.normal(size=(Y.shape[1], K))\n",
    "\n",
    "        W, H = W_0.copy(), H_0.copy()\n",
    "\n",
    "        W, H = imc_descent(problem, W, H,\n",
    "                           step_fn,                  # the inner optimization\n",
    "                           step_kwargs=step_kwargs,  # asrtguments for the inner optimizer\n",
    "                           n_iterations=n_iter,      # the number of outer iterations (Gauss-Siedel)\n",
    "                           n_init_iterations=0,\n",
    "                           return_history=True,      # Record the evolution of the matrices (W, H)\n",
    "                           rtol=1e-3,                # relative stopping tolerance for the outer iterations\n",
    "                           atol=1e-5,                # absolute tolerance\n",
    "                           verbose=False,            # show the progress bar\n",
    "                           check_product=True,       # use the product W H' for stopping\n",
    "                           )\n",
    "\n",
    "        R_hat = get_prediction(X_comb, W, H, Y, binarize=True)\n",
    "        acc = accuracy(R_full, R_hat, invert(mask))\n",
    "        C_accuracies.append(acc)\n",
    "    accs.append(np.max(C_accuracies))\n",
    "    \n",
    "accs = np.array(accs)\n",
    "np.save(exp_path + 'results_sgimc_accuracies_comb.npy', accs)"
   ]
  },
  {
   "cell_type": "markdown",
   "metadata": {},
   "source": [
    "## Plots"
   ]
  },
  {
   "cell_type": "code",
   "execution_count": 10,
   "metadata": {},
   "outputs": [
    {
     "data": {
      "image/png": "[encoded data removed]",
      "text/plain": [
       "<matplotlib.figure.Figure at 0x7f05b6e40f98>"
      ]
     },
     "metadata": {},
     "output_type": "display_data"
    }
   ],
   "source": [
    "exp_path = '/nmnt/x04-hdd/boris_temp/SGIMC_IMC/segment/'\n",
    "\n",
    "# loading results\n",
    "accuracies_sgimc = np.load(exp_path + 'results_sgimc_accuracies.npy')\n",
    "accuracies_sgimc_comb = np.load(exp_path + 'results_sgimc_accuracies_comb.npy')\n",
    "accuracies_mf = np.load(exp_path + 'results_mf_accuracies.npy')\n",
    "accuracies_imc = np.load(exp_path + 'results_imc_accuracies.npy')\n",
    "\n",
    "\n",
    "################################### FIGURE ###################################\n",
    "plt.figure(figsize=(10,8))\n",
    "\n",
    "# lines\n",
    "sgimc_line = mlines.Line2D([], [], color='blue', marker='o', linewidth=2.5,\n",
    "                           markersize=11, label='SGIMC')\n",
    "sgimc_comb_line = mlines.Line2D([], [], color='blue', marker='o', linewidth=2.5, linestyle='--',\n",
    "                                markersize=11, label='SGIMC-comb')\n",
    "imc_line = mlines.Line2D([], [], color='red', marker='s', linewidth=2.5,\n",
    "                         markersize=11, label='IMC')\n",
    "mf_line = mlines.Line2D([], [], color='green', marker='^', linewidth=2.5,\n",
    "                        markersize=11, label='MF')\n",
    "\n",
    "\n",
    "# curves\n",
    "plt.plot(elements, accuracies_sgimc, 'b-', label='SGIMC', linewidth=2.5)\n",
    "plt.plot(elements, accuracies_sgimc_comb, 'b--', label='SGIMC-comb', linewidth=2.5)\n",
    "plt.plot(elements, accuracies_imc, 'r-', label='IMC', linewidth=2.5)\n",
    "plt.plot(elements, accuracies_mf, 'g-', label='MF', linewidth=2.5)\n",
    "\n",
    "# dotes\n",
    "plt.plot(elements, accuracies_sgimc, 'bo', label='SGIMC', linewidth=2.5)\n",
    "plt.plot(elements, accuracies_sgimc_comb, 'bo', label='SGIMC-comb', linewidth=2.5)\n",
    "plt.plot(elements, accuracies_imc, 'rs', label='IMC', linewidth=2.5)\n",
    "plt.plot(elements, accuracies_mf, 'g^', label='MF', linewidth=2.5)\n",
    "\n",
    "# specify axis limits and labels\n",
    "plt.ylim((0.4,1.02))\n",
    "plt.xlabel('Train to all elements ratio', fontsize=19)\n",
    "plt.ylabel('Accuracy', fontsize=19)\n",
    "\n",
    "# ticks\n",
    "plt.xticks(fontsize=14)\n",
    "plt.yticks(fontsize=15)\n",
    "\n",
    "# legend\n",
    "plt.legend(handles=[sgimc_line, sgimc_comb_line, imc_line, mf_line], fontsize=17, loc=4)\n",
    "\n",
    "plt.show()\n",
    "# TODO: save as pdf\n",
    "# TODO: dpi 200"
   ]
  },
  {
   "cell_type": "code",
   "execution_count": null,
   "metadata": {
    "collapsed": true
   },
   "outputs": [],
   "source": []
  }
 ],
 "metadata": {
  "kernelspec": {
   "display_name": "Python 3",
   "language": "python",
   "name": "python3"
  },
  "language_info": {
   "codemirror_mode": {
    "name": "ipython",
    "version": 3
   },
   "file_extension": ".py",
   "mimetype": "text/x-python",
   "name": "python",
   "nbconvert_exporter": "python",
   "pygments_lexer": "ipython3",
   "version": "3.6.1"
  }
 },
 "nbformat": 4,
 "nbformat_minor": 2
}
