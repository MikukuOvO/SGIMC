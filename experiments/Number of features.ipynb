{
 "cells": [
  {
   "cell_type": "markdown",
   "metadata": {},
   "source": [
    "## Imports and experiment setup"
   ]
  },
  {
   "cell_type": "code",
   "execution_count": 1,
   "metadata": {
    "collapsed": true
   },
   "outputs": [],
   "source": [
    "%run header.py\n",
    "%matplotlib inline"
   ]
  },
  {
   "cell_type": "code",
   "execution_count": 2,
   "metadata": {
    "collapsed": true
   },
   "outputs": [],
   "source": [
    "# exp_path = \"/nmnt/x04-hdd/boris_temp/SGIMC_IMC/article_features_002/\"\n",
    "# exp_path = \"/nmnt/x04-hdd/boris_temp/SGIMC_IMC/article_features_01/\""
   ]
  },
  {
   "cell_type": "code",
   "execution_count": 3,
   "metadata": {
    "collapsed": true
   },
   "outputs": [],
   "source": [
    "PROBLEM = \"classification\" if False else \"regression\"\n",
    "\n",
    "step_fn = step_qaadmm\n",
    "\n",
    "if PROBLEM == \"classification\":\n",
    "    QAObjectiveLoss = QAObjectiveLogLoss\n",
    "else:\n",
    "    QAObjectiveLoss = QAObjectiveL2Loss  # QAObjectiveHuberLoss"
   ]
  },
  {
   "cell_type": "code",
   "execution_count": 4,
   "metadata": {
    "collapsed": true
   },
   "outputs": [],
   "source": [
    "if PROBLEM == \"classification\":\n",
    "    C = 1e0, 1e-1, 1e-3\n",
    "    eta = 1e0\n",
    "else:\n",
    "    # C = 2e-5, 2e-3, 0\n",
    "    C = 2e-3, 2e-4, 1e-4\n",
    "    eta = 1e1\n",
    "    \n",
    "step_kwargs = {\n",
    "    \"C\": C,                 # the regularizr constants (C_lasso, C_group, C_ridge)\n",
    "    \"eta\": eta,             # the eta of the ADMM (larger - faster but more unstable)\n",
    "    \"rtol\": 1e-5,           # the relative tolerance for stopping the ADMM\n",
    "    \"atol\": 1e-8,           # the absolute tolerance\n",
    "    \"method\": \"cg\",         # the method to use in Sub_0\n",
    "    \"n_iterations\": 2,      # the number of iterations of the inner ADMM\n",
    "}\n",
    "\n",
    "n_samples, n_objects = 800, 1600\n",
    "n_rank = 25\n",
    "\n",
    "scale = 0.05\n",
    "noise = 0.10\n",
    "\n",
    "n_iter = 100"
   ]
  },
  {
   "cell_type": "markdown",
   "metadata": {},
   "source": [
    "## Parameter to vary"
   ]
  },
  {
   "cell_type": "code",
   "execution_count": 5,
   "metadata": {
    "collapsed": true
   },
   "outputs": [],
   "source": [
    "n_features = np.arange(30, 400, 10)"
   ]
  },
  {
   "cell_type": "markdown",
   "metadata": {},
   "source": [
    "## Data creation"
   ]
  },
  {
   "cell_type": "code",
   "execution_count": null,
   "metadata": {
    "collapsed": true
   },
   "outputs": [],
   "source": [
    "exp_path = \"/nmnt/x04-hdd/boris_temp/SGIMC_IMC/article_features_002/\"\n",
    "train_to_all = 0.02\n",
    "\n",
    "for i, n in enumerate(n_features):\n",
    "    X, W_ideal, Y, H_ideal, R_noisy_full, R_clean_full = make_imc_data(\n",
    "        n_samples, n, n_objects, n,\n",
    "        n_rank, scale=(scale, scale), noise=scale*noise,\n",
    "        binarize=(PROBLEM == \"classification\"),\n",
    "        random_state=random_state,\n",
    "        return_noisy_only=False)\n",
    "\n",
    "    _, mask = sparsify(R_noisy_full, train_to_all, random_state=random_state)\n",
    "\n",
    "    np.save(exp_path + \"R_noisy_{}.npy\".format(i), R_noisy_full)\n",
    "    np.save(exp_path + \"R_clean_{}.npy\".format(i), R_clean_full)\n",
    "    np.save(exp_path + \"X_{}.npy\".format(i), X)\n",
    "    np.save(exp_path + \"Y_{}.npy\".format(i), Y)\n",
    "    np.save(exp_path + \"mask_{}.npy\".format(i), mask)"
   ]
  },
  {
   "cell_type": "code",
   "execution_count": null,
   "metadata": {
    "collapsed": true
   },
   "outputs": [],
   "source": [
    "exp_path = \"/nmnt/x04-hdd/boris_temp/SGIMC_IMC/article_features_01/\"\n",
    "train_to_all = 0.1\n",
    "\n",
    "for i, n in enumerate(n_features):\n",
    "    X, W_ideal, Y, H_ideal, R_noisy_full, R_clean_full = make_imc_data(\n",
    "        n_samples, n, n_objects, n,\n",
    "        n_rank, scale=(scale, scale), noise=scale*noise,\n",
    "        binarize=(PROBLEM == \"classification\"),\n",
    "        random_state=random_state,\n",
    "        return_noisy_only=False)\n",
    "\n",
    "    _, mask = sparsify(R_noisy_full, train_to_all, random_state=random_state)\n",
    "\n",
    "    np.save(exp_path + \"R_noisy_{}.npy\".format(i), R_noisy_full)\n",
    "    np.save(exp_path + \"R_clean_{}.npy\".format(i), R_clean_full)\n",
    "    np.save(exp_path + \"X_{}.npy\".format(i), X)\n",
    "    np.save(exp_path + \"Y_{}.npy\".format(i), Y)\n",
    "    np.save(exp_path + \"mask_{}.npy\".format(i), mask)"
   ]
  },
  {
   "cell_type": "markdown",
   "metadata": {},
   "source": [
    "## Run experiment (K < n_rank, train_to_all_ratio = 0.02)"
   ]
  },
  {
   "cell_type": "code",
   "execution_count": 6,
   "metadata": {
    "collapsed": true
   },
   "outputs": [],
   "source": [
    "K = 20\n",
    "train_to_all = 0.02"
   ]
  },
  {
   "cell_type": "code",
   "execution_count": 32,
   "metadata": {
    "scrolled": true
   },
   "outputs": [
    {
     "data": {
      "application/vnd.jupyter.widget-view+json": {
       "model_id": "4964901b40ab4fcea767e8b1e6e25f84"
      }
     },
     "metadata": {},
     "output_type": "display_data"
    },
    {
     "name": "stdout",
     "output_type": "stream",
     "text": [
      "\n",
      "\n"
     ]
    }
   ],
   "source": [
    "exp_path = \"/nmnt/x04-hdd/boris_temp/SGIMC_IMC/article_features_002/\"\n",
    "\n",
    "losses = []\n",
    "for i, n in enumerate(n_features):\n",
    "    R_noisy_full = np.load(exp_path + \"R_noisy_{}.npy\".format(i))\n",
    "    R_clean_full = np.load(exp_path + \"R_clean_{}.npy\".format(i))\n",
    "    X = np.load(exp_path + \"X_{}.npy\".format(i))\n",
    "    Y = np.load(exp_path + \"Y_{}.npy\".format(i))\n",
    "    mask = np.load(exp_path + \"mask_{}.npy\".format(i))\n",
    "    \n",
    "    R_train = sparsify_with_mask(R_noisy_full, mask)\n",
    "    problem = IMCProblem(QAObjectiveLoss, X, Y, R_train, n_threads=8)\n",
    "    \n",
    "        \n",
    "    W_0 = random_state.normal(size=(X.shape[1], K))\n",
    "    H_0 = random_state.normal(size=(Y.shape[1], K))\n",
    "\n",
    "    W, H = W_0.copy(), H_0.copy()\n",
    "\n",
    "    W, H = imc_descent(problem, W, H,\n",
    "                       step_fn,                  # the inner optimization\n",
    "                       step_kwargs=step_kwargs,  # asrtguments for the inner optimizer\n",
    "                       n_iterations=n_iter,      # the number of outer iterations (Gauss-Siedel)\n",
    "                       n_init_iterations=0,\n",
    "                       return_history=True,      # Record the evolution of the matrices (W, H)\n",
    "                       rtol=1e-5,                # relative stopping tolerance for the outer iterations\n",
    "                       atol=1e-7,                # absolute tolerance\n",
    "                       verbose=False,            # show the progress bar\n",
    "                       check_product=True,       # use the product W H' for stopping\n",
    "                       )\n",
    "    \n",
    "    losses.append(calculate_loss(R_clean_full, X, W, H, Y, invert(mask)))\n",
    "    \n",
    "losses = np.array(losses)\n",
    "np.save(exp_path + \"results_sgimc_tuned.npy\", losses)"
   ]
  },
  {
   "cell_type": "markdown",
   "metadata": {
    "collapsed": true
   },
   "source": [
    "## Run experiment (K > n_rank, train_to_all_ratio = 0.02)"
   ]
  },
  {
   "cell_type": "code",
   "execution_count": 7,
   "metadata": {
    "collapsed": true
   },
   "outputs": [],
   "source": [
    "K = 30\n",
    "train_to_all = 0.02"
   ]
  },
  {
   "cell_type": "code",
   "execution_count": 15,
   "metadata": {
    "scrolled": true
   },
   "outputs": [
    {
     "name": "stderr",
     "output_type": "stream",
     "text": [
      "0it [00:00, ?it/s]\n",
      " 99%|█████████▉| 99/100 [00:02<00:00, 52.39it/s]\n",
      "0it [00:00, ?it/s]\n",
      "100%|██████████| 100/100 [00:02<00:00, 35.86it/s]\n",
      "0it [00:00, ?it/s]\n",
      "100%|██████████| 100/100 [00:03<00:00, 32.51it/s]\n",
      "0it [00:00, ?it/s]\n",
      "100%|██████████| 100/100 [00:03<00:00, 27.83it/s]\n",
      "0it [00:00, ?it/s]\n",
      "100%|██████████| 100/100 [00:04<00:00, 24.18it/s]\n",
      "0it [00:00, ?it/s]\n",
      "100%|██████████| 100/100 [00:04<00:00, 21.06it/s]\n",
      "0it [00:00, ?it/s]\n",
      "100%|██████████| 100/100 [00:05<00:00, 19.44it/s]\n",
      "0it [00:00, ?it/s]\n",
      "100%|██████████| 100/100 [00:05<00:00, 25.29it/s]\n",
      "0it [00:00, ?it/s]\n",
      "100%|██████████| 100/100 [00:07<00:00, 20.29it/s]\n",
      "0it [00:00, ?it/s]\n",
      "100%|██████████| 100/100 [00:06<00:00, 20.26it/s]\n",
      "0it [00:00, ?it/s]\n",
      "100%|██████████| 100/100 [00:07<00:00, 13.68it/s]\n",
      "0it [00:00, ?it/s]\n",
      "100%|██████████| 100/100 [00:08<00:00, 15.77it/s]\n",
      "0it [00:00, ?it/s]\n",
      "100%|██████████| 100/100 [00:08<00:00, 11.70it/s]\n",
      "0it [00:00, ?it/s]\n",
      "100%|██████████| 100/100 [00:09<00:00, 10.45it/s]\n",
      "0it [00:00, ?it/s]\n",
      "100%|██████████| 100/100 [00:09<00:00, 10.07it/s]\n",
      "0it [00:00, ?it/s]\n",
      "100%|██████████| 100/100 [00:10<00:00,  9.94it/s]\n",
      "0it [00:00, ?it/s]\n",
      "100%|██████████| 100/100 [00:11<00:00,  8.54it/s]\n",
      "0it [00:00, ?it/s]\n",
      "100%|██████████| 100/100 [00:11<00:00,  8.39it/s]\n",
      "0it [00:00, ?it/s]\n",
      "100%|██████████| 100/100 [00:12<00:00,  8.24it/s]\n",
      "0it [00:00, ?it/s]\n",
      "100%|██████████| 100/100 [00:13<00:00,  9.55it/s]\n",
      "0it [00:00, ?it/s]\n",
      "100%|██████████| 100/100 [00:13<00:00,  9.70it/s]\n",
      "0it [00:00, ?it/s]\n",
      "100%|██████████| 100/100 [00:14<00:00,  8.11it/s]\n",
      "0it [00:00, ?it/s]\n",
      "100%|██████████| 100/100 [00:17<00:00,  8.61it/s]\n",
      "0it [00:00, ?it/s]\n",
      "100%|██████████| 100/100 [00:15<00:00,  6.61it/s]\n",
      "0it [00:00, ?it/s]\n",
      "100%|██████████| 100/100 [00:17<00:00,  7.87it/s]\n",
      "0it [00:00, ?it/s]\n",
      "100%|██████████| 100/100 [00:16<00:00,  7.05it/s]\n",
      "0it [00:00, ?it/s]\n",
      "100%|██████████| 100/100 [00:17<00:00,  6.93it/s]\n",
      "0it [00:00, ?it/s]\n",
      "100%|██████████| 100/100 [00:18<00:00,  6.15it/s]\n",
      "0it [00:00, ?it/s]\n",
      "100%|██████████| 100/100 [00:18<00:00,  6.70it/s]\n",
      "0it [00:00, ?it/s]\n",
      "100%|██████████| 100/100 [00:20<00:00,  6.23it/s]\n",
      "0it [00:00, ?it/s]\n",
      "100%|██████████| 100/100 [00:21<00:00,  5.84it/s]\n",
      "0it [00:00, ?it/s]\n",
      "100%|██████████| 100/100 [00:20<00:00,  6.60it/s]\n",
      "0it [00:00, ?it/s]\n",
      "100%|██████████| 100/100 [00:21<00:00,  5.59it/s]\n",
      "0it [00:00, ?it/s]\n",
      "100%|██████████| 100/100 [00:22<00:00,  5.52it/s]\n",
      "0it [00:00, ?it/s]\n",
      "100%|██████████| 100/100 [00:22<00:00,  5.43it/s]\n",
      "0it [00:00, ?it/s]\n",
      "100%|██████████| 100/100 [00:23<00:00,  5.52it/s]\n",
      "0it [00:00, ?it/s]\n",
      "100%|██████████| 100/100 [00:24<00:00,  4.83it/s]\n"
     ]
    }
   ],
   "source": [
    "exp_path = \"/nmnt/x04-hdd/boris_temp/SGIMC_IMC/article_features_002/\"\n",
    "\n",
    "losses = []\n",
    "for i, n in enumerate(n_features):\n",
    "    R_noisy_full = np.load(exp_path + \"R_noisy_{}.npy\".format(i))\n",
    "    R_clean_full = np.load(exp_path + \"R_clean_{}.npy\".format(i))\n",
    "    X = np.load(exp_path + \"X_{}.npy\".format(i))\n",
    "    Y = np.load(exp_path + \"Y_{}.npy\".format(i))\n",
    "    mask = np.load(exp_path + \"mask_{}.npy\".format(i))\n",
    "    \n",
    "    R_train = sparsify_with_mask(R_noisy_full, mask)\n",
    "    problem = IMCProblem(QAObjectiveLoss, X, Y, R_train, n_threads=8)\n",
    "\n",
    "    W_0 = random_state.normal(size=(X.shape[1], K))\n",
    "    H_0 = random_state.normal(size=(Y.shape[1], K))\n",
    "\n",
    "    W, H = W_0.copy(), H_0.copy()\n",
    "\n",
    "    W, H = imc_descent(problem, W, H,\n",
    "                       step_fn,                  # the inner optimization\n",
    "                       step_kwargs=step_kwargs,  # asrtguments for the inner optimizer\n",
    "                       n_iterations=n_iter,      # the number of outer iterations (Gauss-Siedel)\n",
    "                       n_init_iterations=0,\n",
    "                       return_history=True,      # Record the evolution of the matrices (W, H)\n",
    "                       rtol=1e-5,                # relative stopping tolerance for the outer iterations\n",
    "                       atol=1e-7,                # absolute tolerance\n",
    "                       verbose=True,             # show the progress bar\n",
    "                       check_product=True,       # use the product W H' for stopping\n",
    "                       )\n",
    "\n",
    "    losses.append(calculate_loss(R_clean_full, X, W, H, Y, invert(mask)))\n",
    "    \n",
    "losses = np.array(losses)\n",
    "np.save(exp_path + \"results_sgimc_1.npy\", losses)"
   ]
  },
  {
   "cell_type": "markdown",
   "metadata": {
    "collapsed": true
   },
   "source": [
    "## Run experiment (K < n_rank, train_to_all_ratio = 0.1)"
   ]
  },
  {
   "cell_type": "code",
   "execution_count": 8,
   "metadata": {
    "collapsed": true
   },
   "outputs": [],
   "source": [
    "K = 20\n",
    "train_to_all = 0.1"
   ]
  },
  {
   "cell_type": "code",
   "execution_count": 18,
   "metadata": {
    "scrolled": true
   },
   "outputs": [
    {
     "name": "stderr",
     "output_type": "stream",
     "text": [
      "0it [00:00, ?it/s]\n",
      "100%|██████████| 100/100 [00:05<00:00, 18.21it/s]\n",
      "0it [00:00, ?it/s]\n",
      "100%|██████████| 100/100 [00:06<00:00, 15.61it/s]\n",
      "0it [00:00, ?it/s]\n",
      "100%|██████████| 100/100 [00:07<00:00,  7.26it/s]\n",
      "0it [00:00, ?it/s]\n",
      "100%|██████████| 100/100 [00:07<00:00, 13.57it/s]\n",
      "0it [00:00, ?it/s]\n",
      "100%|██████████| 100/100 [00:07<00:00, 12.81it/s]\n",
      "0it [00:00, ?it/s]\n",
      "100%|██████████| 100/100 [00:09<00:00, 12.48it/s]\n",
      "0it [00:00, ?it/s]\n",
      "100%|██████████| 100/100 [00:09<00:00, 13.64it/s]\n",
      "0it [00:00, ?it/s]\n",
      "100%|██████████| 100/100 [00:09<00:00, 10.79it/s]\n",
      "0it [00:00, ?it/s]\n",
      "100%|██████████| 100/100 [00:10<00:00,  9.40it/s]\n",
      "0it [00:00, ?it/s]\n",
      "100%|██████████| 100/100 [00:11<00:00,  9.98it/s]\n",
      "0it [00:00, ?it/s]\n",
      "100%|██████████| 100/100 [00:11<00:00,  9.19it/s]\n",
      "0it [00:00, ?it/s]\n",
      "100%|██████████| 100/100 [00:12<00:00,  4.15it/s]\n",
      "0it [00:00, ?it/s]\n",
      "100%|██████████| 100/100 [00:13<00:00,  7.68it/s]\n",
      "0it [00:00, ?it/s]\n",
      "100%|██████████| 100/100 [00:14<00:00,  7.77it/s]\n",
      "0it [00:00, ?it/s]\n",
      "100%|██████████| 100/100 [00:16<00:00,  6.63it/s]\n",
      "0it [00:00, ?it/s]\n",
      "100%|██████████| 100/100 [00:16<00:00,  6.13it/s]\n",
      "0it [00:00, ?it/s]\n",
      "100%|██████████| 100/100 [00:16<00:00,  6.53it/s]\n",
      "0it [00:00, ?it/s]\n",
      "100%|██████████| 100/100 [00:18<00:00,  5.93it/s]\n",
      "0it [00:00, ?it/s]\n",
      "100%|██████████| 100/100 [00:19<00:00,  4.99it/s]\n",
      "0it [00:00, ?it/s]\n",
      "100%|██████████| 100/100 [00:19<00:00,  5.81it/s]\n",
      "0it [00:00, ?it/s]\n",
      "100%|██████████| 100/100 [00:20<00:00,  4.69it/s]\n",
      "0it [00:00, ?it/s]\n",
      "100%|██████████| 100/100 [00:19<00:00,  5.23it/s]\n",
      "0it [00:00, ?it/s]\n",
      "100%|██████████| 100/100 [00:21<00:00,  4.73it/s]\n",
      "0it [00:00, ?it/s]\n",
      "100%|██████████| 100/100 [00:22<00:00,  4.33it/s]\n",
      "0it [00:00, ?it/s]\n",
      "100%|██████████| 100/100 [00:22<00:00,  4.60it/s]\n",
      "0it [00:00, ?it/s]\n",
      "100%|██████████| 100/100 [00:23<00:00,  4.20it/s]\n",
      "0it [00:00, ?it/s]\n",
      "100%|██████████| 100/100 [00:23<00:00,  3.78it/s]\n",
      "0it [00:00, ?it/s]\n",
      "100%|██████████| 100/100 [00:25<00:00,  4.03it/s]\n",
      "0it [00:00, ?it/s]\n",
      "100%|██████████| 100/100 [00:26<00:00,  4.02it/s]\n",
      "0it [00:00, ?it/s]\n",
      "100%|██████████| 100/100 [00:26<00:00,  3.75it/s]\n",
      "0it [00:00, ?it/s]\n",
      "100%|██████████| 100/100 [00:28<00:00,  3.58it/s]\n",
      "0it [00:00, ?it/s]\n",
      "100%|██████████| 100/100 [00:27<00:00,  3.68it/s]\n",
      "0it [00:00, ?it/s]\n",
      "100%|██████████| 100/100 [00:28<00:00,  3.37it/s]\n",
      "0it [00:00, ?it/s]\n",
      "100%|██████████| 100/100 [00:30<00:00,  2.75it/s]\n",
      "0it [00:00, ?it/s]\n",
      "100%|██████████| 100/100 [00:30<00:00,  3.50it/s]\n",
      "0it [00:00, ?it/s]\n",
      "100%|██████████| 100/100 [00:29<00:00,  3.25it/s]\n",
      "0it [00:00, ?it/s]\n",
      "100%|██████████| 100/100 [00:31<00:00,  3.01it/s]\n"
     ]
    }
   ],
   "source": [
    "exp_path = \"/nmnt/x04-hdd/boris_temp/SGIMC_IMC/article_features_01/\"\n",
    "\n",
    "losses = []\n",
    "for i, n in enumerate(n_features):\n",
    "    R_noisy_full = np.load(exp_path + \"R_noisy_{}.npy\".format(i))\n",
    "    R_clean_full = np.load(exp_path + \"R_clean_{}.npy\".format(i))\n",
    "    X = np.load(exp_path + \"X_{}.npy\".format(i))\n",
    "    Y = np.load(exp_path + \"Y_{}.npy\".format(i))\n",
    "    mask = np.load(exp_path + \"mask_{}.npy\".format(i))\n",
    "\n",
    "    R_train = sparsify_with_mask(R_noisy_full, mask)\n",
    "    problem = IMCProblem(QAObjectiveLoss, X, Y, R_train, n_threads=8)\n",
    "\n",
    "    W_0 = random_state.normal(size=(X.shape[1], K))\n",
    "    H_0 = random_state.normal(size=(Y.shape[1], K))\n",
    "\n",
    "    W, H = W_0.copy(), H_0.copy()\n",
    "\n",
    "    W, H = imc_descent(problem, W, H,\n",
    "                       step_fn,                  # the inner optimization\n",
    "                       step_kwargs=step_kwargs,  # asrtguments for the inner optimizer\n",
    "                       n_iterations=n_iter,      # the number of outer iterations (Gauss-Siedel)\n",
    "                       n_init_iterations=0,\n",
    "                       return_history=True,      # Record the evolution of the matrices (W, H)\n",
    "                       rtol=1e-5,                # relative stopping tolerance for the outer iterations\n",
    "                       atol=1e-7,                # absolute tolerance\n",
    "                       verbose=True,             # show the progress bar\n",
    "                       check_product=True,       # use the product W H' for stopping\n",
    "                       )\n",
    "\n",
    "    losses.append(calculate_loss(R_clean_full, X, W, H, Y, invert(mask)))\n",
    "    \n",
    "losses = np.array(losses)\n",
    "np.save(exp_path + \"results_sgimc.npy\", losses)"
   ]
  },
  {
   "cell_type": "markdown",
   "metadata": {},
   "source": [
    "## Run experiment (K > n_rank, train_to_all_ratio = 0.1)"
   ]
  },
  {
   "cell_type": "code",
   "execution_count": 9,
   "metadata": {
    "collapsed": true
   },
   "outputs": [],
   "source": [
    "K = 30\n",
    "train_to_all = 0.1"
   ]
  },
  {
   "cell_type": "code",
   "execution_count": 20,
   "metadata": {
    "scrolled": true
   },
   "outputs": [
    {
     "name": "stderr",
     "output_type": "stream",
     "text": [
      "0it [00:00, ?it/s]\n",
      "100%|██████████| 100/100 [00:09<00:00, 10.58it/s]\n",
      "0it [00:00, ?it/s]\n",
      "100%|██████████| 100/100 [00:10<00:00, 13.46it/s]\n",
      "0it [00:00, ?it/s]\n",
      "100%|██████████| 100/100 [00:12<00:00, 10.73it/s]\n",
      "0it [00:00, ?it/s]\n",
      "100%|██████████| 100/100 [00:12<00:00,  9.48it/s]\n",
      "0it [00:00, ?it/s]\n",
      "100%|██████████| 100/100 [00:12<00:00,  7.71it/s]\n",
      "0it [00:00, ?it/s]\n",
      "100%|██████████| 100/100 [00:14<00:00,  7.01it/s]\n",
      "0it [00:00, ?it/s]\n",
      "100%|██████████| 100/100 [00:16<00:00,  8.18it/s]\n",
      "0it [00:00, ?it/s]\n",
      "100%|██████████| 100/100 [00:16<00:00,  8.53it/s]\n",
      "0it [00:00, ?it/s]\n",
      "100%|██████████| 100/100 [00:16<00:00,  7.79it/s]\n",
      "0it [00:00, ?it/s]\n",
      "100%|██████████| 100/100 [00:19<00:00,  5.52it/s]\n",
      "0it [00:00, ?it/s]\n",
      "100%|██████████| 100/100 [00:19<00:00,  5.68it/s]\n",
      "0it [00:00, ?it/s]\n",
      "100%|██████████| 100/100 [00:19<00:00,  4.58it/s]\n",
      "0it [00:00, ?it/s]\n",
      "100%|██████████| 100/100 [00:22<00:00,  4.76it/s]\n",
      "0it [00:00, ?it/s]\n",
      "100%|██████████| 100/100 [00:20<00:00,  5.50it/s]\n",
      "0it [00:00, ?it/s]\n",
      "100%|██████████| 100/100 [00:21<00:00,  4.92it/s]\n",
      "0it [00:00, ?it/s]\n",
      "100%|██████████| 100/100 [00:22<00:00,  4.39it/s]\n",
      "0it [00:00, ?it/s]\n",
      "100%|██████████| 100/100 [00:26<00:00,  4.45it/s]\n",
      "0it [00:00, ?it/s]\n",
      "100%|██████████| 100/100 [00:27<00:00,  3.38it/s]\n",
      "0it [00:00, ?it/s]\n",
      "100%|██████████| 100/100 [00:28<00:00,  3.33it/s]\n",
      "0it [00:00, ?it/s]\n",
      "100%|██████████| 100/100 [00:28<00:00,  3.66it/s]\n",
      "0it [00:00, ?it/s]\n",
      "100%|██████████| 100/100 [00:30<00:00,  3.25it/s]\n",
      "0it [00:00, ?it/s]\n",
      "100%|██████████| 100/100 [00:29<00:00,  3.13it/s]\n",
      "0it [00:00, ?it/s]\n",
      "100%|██████████| 100/100 [00:31<00:00,  3.04it/s]\n",
      "0it [00:00, ?it/s]\n",
      "100%|██████████| 100/100 [00:32<00:00,  2.75it/s]\n",
      "0it [00:00, ?it/s]\n",
      "100%|██████████| 100/100 [00:33<00:00,  3.05it/s]\n",
      "0it [00:00, ?it/s]\n",
      "100%|██████████| 100/100 [00:33<00:00,  3.22it/s]\n",
      "0it [00:00, ?it/s]\n",
      "100%|██████████| 100/100 [00:33<00:00,  2.84it/s]\n",
      "0it [00:00, ?it/s]\n",
      "100%|██████████| 100/100 [00:37<00:00,  2.65it/s]\n",
      "0it [00:00, ?it/s]\n",
      "100%|██████████| 100/100 [00:36<00:00,  2.67it/s]\n",
      "0it [00:00, ?it/s]\n",
      "100%|██████████| 100/100 [00:36<00:00,  2.75it/s]\n",
      "0it [00:00, ?it/s]\n",
      "100%|██████████| 100/100 [00:39<00:00,  2.46it/s]\n",
      "0it [00:00, ?it/s]\n",
      "100%|██████████| 100/100 [00:38<00:00,  2.44it/s]\n",
      "0it [00:00, ?it/s]\n",
      "100%|██████████| 100/100 [00:41<00:00,  2.28it/s]\n",
      "0it [00:00, ?it/s]\n",
      "100%|██████████| 100/100 [00:41<00:00,  2.40it/s]\n",
      "0it [00:00, ?it/s]\n",
      "100%|██████████| 100/100 [00:41<00:00,  2.40it/s]\n",
      "0it [00:00, ?it/s]\n",
      "100%|██████████| 100/100 [00:44<00:00,  2.32it/s]\n",
      "0it [00:00, ?it/s]\n",
      "100%|██████████| 100/100 [00:44<00:00,  2.28it/s]\n"
     ]
    }
   ],
   "source": [
    "exp_path = \"/nmnt/x04-hdd/boris_temp/SGIMC_IMC/article_features_01/\"\n",
    "\n",
    "losses = []\n",
    "for i, n in enumerate(n_features):\n",
    "    R_noisy_full = np.load(exp_path + \"R_noisy_{}.npy\".format(i))\n",
    "    R_clean_full = np.load(exp_path + \"R_clean_{}.npy\".format(i))\n",
    "    X = np.load(exp_path + \"X_{}.npy\".format(i))\n",
    "    Y = np.load(exp_path + \"Y_{}.npy\".format(i))\n",
    "    mask = np.load(exp_path + \"mask_{}.npy\".format(i))\n",
    "    \n",
    "    R_train = sparsify_with_mask(R_noisy_full, mask)\n",
    "    problem = IMCProblem(QAObjectiveLoss, X, Y, R_train, n_threads=8)\n",
    "\n",
    "    W_0 = random_state.normal(size=(X.shape[1], K))\n",
    "    H_0 = random_state.normal(size=(Y.shape[1], K))\n",
    "\n",
    "    W, H = W_0.copy(), H_0.copy()\n",
    "\n",
    "    W, H = imc_descent(problem, W, H,\n",
    "                       step_fn,                  # the inner optimization\n",
    "                       step_kwargs=step_kwargs,  # asrtguments for the inner optimizer\n",
    "                       n_iterations=n_iter,      # the number of outer iterations (Gauss-Siedel)\n",
    "                       n_init_iterations=0,\n",
    "                       return_history=True,      # Record the evolution of the matrices (W, H)\n",
    "                       rtol=1e-5,                # relative stopping tolerance for the outer iterations\n",
    "                       atol=1e-7,                # absolute tolerance\n",
    "                       verbose=True,             # show the progress bar\n",
    "                       check_product=True,       # use the product W H' for stopping\n",
    "                       )\n",
    "\n",
    "    losses.append(calculate_loss(R_clean_full, X, W, H, Y, invert(mask)))\n",
    "    \n",
    "losses = np.array(losses)\n",
    "np.save(exp_path + \"results_sgimc_1.npy\", losses)"
   ]
  },
  {
   "cell_type": "markdown",
   "metadata": {
    "collapsed": true
   },
   "source": [
    "## Plots"
   ]
  },
  {
   "cell_type": "code",
   "execution_count": 10,
   "metadata": {},
   "outputs": [
    {
     "data": {
      "text/plain": [
       "[]"
      ]
     },
     "execution_count": 10,
     "metadata": {},
     "output_type": "execute_result"
    },
    {
     "data": {
      "image/png": "[encoded data removed]",
      "text/plain": [
       "<matplotlib.figure.Figure at 0x7fea9a48bfd0>"
      ]
     },
     "metadata": {},
     "output_type": "display_data"
    }
   ],
   "source": [
    "exp_path = \"/nmnt/x04-hdd/boris_temp/SGIMC_IMC/article_features_002/\"\n",
    "\n",
    "sgimc_losses = np.load(exp_path + \"results_sgimc.npy\")\n",
    "imc_losses = np.load(exp_path + \"results_imc.npy\")\n",
    "\n",
    "sgimc_losses_1 = np.load(exp_path + \"results_sgimc_1.npy\")\n",
    "imc_losses_1 = np.load(exp_path + \"results_imc_1.npy\")\n",
    "\n",
    "\n",
    "plt.figure(figsize=(10,8))\n",
    "plt.plot(n_features, sgimc_losses, 'b-', label='SGIMC (K = 20)')\n",
    "plt.plot(n_features, imc_losses, 'r-', label='IMC (K = 20)')\n",
    "\n",
    "plt.plot(n_features, sgimc_losses_1, 'b--', label='SGIMC (K = 30)')\n",
    "plt.plot(n_features, imc_losses_1, 'r--', label='IMC (K = 30)')\n",
    "\n",
    "plt.xlim((0,410))\n",
    "#plt.ylim((0,1))\n",
    "\n",
    "plt.xlabel('Number of features')\n",
    "plt.ylabel('Error')\n",
    "plt.title('train to all ratio is 0.02')\n",
    "plt.legend()\n",
    "\n",
    "plt.plot()"
   ]
  },
  {
   "cell_type": "code",
   "execution_count": 11,
   "metadata": {},
   "outputs": [
    {
     "data": {
      "text/plain": [
       "[]"
      ]
     },
     "execution_count": 11,
     "metadata": {},
     "output_type": "execute_result"
    },
    {
     "data": {
      "image/png": "[encoded data removed]",
      "text/plain": [
       "<matplotlib.figure.Figure at 0x7fea97b58fd0>"
      ]
     },
     "metadata": {},
     "output_type": "display_data"
    }
   ],
   "source": [
    "exp_path = \"/nmnt/x04-hdd/boris_temp/SGIMC_IMC/article_features_01/\"\n",
    "\n",
    "sgimc_losses = np.load(exp_path + \"results_sgimc.npy\")\n",
    "imc_losses = np.load(exp_path + \"results_imc.npy\")\n",
    "\n",
    "sgimc_losses_1 = np.load(exp_path + \"results_sgimc_1.npy\")\n",
    "imc_losses_1 = np.load(exp_path + \"results_imc_1.npy\")\n",
    "\n",
    "\n",
    "plt.figure(figsize=(10,8))\n",
    "plt.plot(n_features, sgimc_losses, 'b-', label='SGIMC (K = 20)')\n",
    "plt.plot(n_features, imc_losses, 'r-', label='IMC (K = 20)')\n",
    "\n",
    "plt.plot(n_features, sgimc_losses_1, 'b--', label='SGIMC (K = 30)')\n",
    "plt.plot(n_features, imc_losses_1, 'r--', label='IMC (K = 30)')\n",
    "\n",
    "plt.xlim((0,410))\n",
    "#plt.ylim((0,1))\n",
    "\n",
    "plt.xlabel('Number of features')\n",
    "plt.ylabel('Error')\n",
    "plt.title('train to all ratio is 0.1')\n",
    "plt.legend()\n",
    "\n",
    "plt.plot()"
   ]
  },
  {
   "cell_type": "code",
   "execution_count": null,
   "metadata": {
    "collapsed": true
   },
   "outputs": [],
   "source": []
  }
 ],
 "metadata": {
  "kernelspec": {
   "display_name": "Python 3",
   "language": "python",
   "name": "python3"
  },
  "language_info": {
   "codemirror_mode": {
    "name": "ipython",
    "version": 3
   },
   "file_extension": ".py",
   "mimetype": "text/x-python",
   "name": "python",
   "nbconvert_exporter": "python",
   "pygments_lexer": "ipython3",
   "version": "3.6.1"
  }
 },
 "nbformat": 4,
 "nbformat_minor": 2
}
