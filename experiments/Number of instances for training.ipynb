{
 "cells": [
  {
   "cell_type": "markdown",
   "metadata": {},
   "source": [
    "## Imports and experiment setup"
   ]
  },
  {
   "cell_type": "code",
   "execution_count": 1,
   "metadata": {
    "collapsed": true
   },
   "outputs": [],
   "source": [
    "%run header.py\n",
    "%matplotlib inline"
   ]
  },
  {
   "cell_type": "code",
   "execution_count": 2,
   "metadata": {
    "collapsed": true
   },
   "outputs": [],
   "source": [
    "exp_path = \"/nmnt/x04-hdd/boris_temp/SGIMC_IMC/article_instances/\""
   ]
  },
  {
   "cell_type": "code",
   "execution_count": 3,
   "metadata": {
    "collapsed": true
   },
   "outputs": [],
   "source": [
    "PROBLEM = \"classification\" if False else \"regression\"\n",
    "\n",
    "step_fn = step_qaadmm\n",
    "\n",
    "if PROBLEM == \"classification\":\n",
    "    QAObjectiveLoss = QAObjectiveLogLoss\n",
    "else:\n",
    "    QAObjectiveLoss = QAObjectiveL2Loss  # QAObjectiveHuberLoss"
   ]
  },
  {
   "cell_type": "code",
   "execution_count": 4,
   "metadata": {
    "collapsed": true
   },
   "outputs": [],
   "source": [
    "if PROBLEM == \"classification\":\n",
    "    C = 1e0, 1e-1, 1e-3\n",
    "    eta = 1e0\n",
    "else:\n",
    "    # C = 2e-5, 2e-3, 0\n",
    "    C = 2e-3, 2e-4, 1e-4\n",
    "    eta = 1e1\n",
    "    \n",
    "step_kwargs = {\n",
    "    \"C\": C,                 # the regularizr constants (C_lasso, C_group, C_ridge)\n",
    "    \"eta\": eta,             # the eta of the ADMM (larger - faster but more unstable)\n",
    "    \"rtol\": 1e-5,           # the relative tolerance for stopping the ADMM\n",
    "    \"atol\": 1e-8,           # the absolute tolerance\n",
    "    \"method\": \"cg\",         # the method to use in Sub_0\n",
    "    \"n_iterations\": 2,      # the number of iterations of the inner ADMM\n",
    "}\n",
    "\n",
    "n_samples, n_objects = 800, 1600\n",
    "n_rank = 25\n",
    "n_features = 50\n",
    "\n",
    "scale = 0.05\n",
    "noise = 0.10\n",
    "\n",
    "n_iter = 100"
   ]
  },
  {
   "cell_type": "markdown",
   "metadata": {},
   "source": [
    "## Data creation"
   ]
  },
  {
   "cell_type": "code",
   "execution_count": null,
   "metadata": {
    "collapsed": true
   },
   "outputs": [],
   "source": [
    "for i, elem in enumerate(elements):\n",
    "    X, W_ideal, Y, H_ideal, R_noisy_full, R_clean_full = make_imc_data(\n",
    "        n_samples, n_features, n_objects, n_features,\n",
    "        n_rank, scale=(scale, scale), noise=scale*noise,\n",
    "        binarize=(PROBLEM == \"classification\"),\n",
    "        random_state=random_state,\n",
    "        return_noisy_only=False)\n",
    "\n",
    "    _, mask = sparsify(R_noisy_full, elem, random_state=random_state)\n",
    "    \n",
    "    np.save(exp_path + \"R_noisy_{}.npy\".format(i), R_noisy_full)\n",
    "    np.save(exp_path + \"R_clean_{}.npy\".format(i), R_clean_full)\n",
    "    np.save(exp_path + \"X_{}.npy\".format(i), X)\n",
    "    np.save(exp_path + \"Y_{}.npy\".format(i), Y)\n",
    "    np.save(exp_path + \"mask_{}.npy\".format(i), mask)"
   ]
  },
  {
   "cell_type": "markdown",
   "metadata": {},
   "source": [
    "## Parameter to vary"
   ]
  },
  {
   "cell_type": "code",
   "execution_count": 5,
   "metadata": {
    "collapsed": true
   },
   "outputs": [],
   "source": [
    "elements = np.arange(0.001, 0.05, 0.0005)\n",
    "elem_short = elements[::3]"
   ]
  },
  {
   "cell_type": "markdown",
   "metadata": {},
   "source": [
    "## Run experiment (K < n_rank)"
   ]
  },
  {
   "cell_type": "code",
   "execution_count": 6,
   "metadata": {
    "collapsed": true
   },
   "outputs": [],
   "source": [
    "K = 20"
   ]
  },
  {
   "cell_type": "code",
   "execution_count": 7,
   "metadata": {
    "collapsed": true
   },
   "outputs": [],
   "source": [
    "losses = []\n",
    "for i, elem in enumerate(elements):\n",
    "    R_noisy_full = np.load(exp_path + \"R_noisy_{}.npy\".format(i))\n",
    "    R_clean_full = np.load(exp_path + \"R_clean_{}.npy\".format(i))\n",
    "    X = np.load(exp_path + \"X_{}.npy\".format(i))\n",
    "    Y = np.load(exp_path + \"Y_{}.npy\".format(i))\n",
    "    mask = np.load(exp_path + \"mask_{}.npy\".format(i))\n",
    "\n",
    "    R_train, mask = sparsify(R_noisy_full, elem, random_state=random_state)\n",
    "    problem = IMCProblem(QAObjectiveLoss, X, Y, R_train, n_threads=8)\n",
    "\n",
    "    W_0 = random_state.normal(size=(X.shape[1], K))\n",
    "    H_0 = random_state.normal(size=(Y.shape[1], K))\n",
    "\n",
    "    W, H = W_0.copy(), H_0.copy()\n",
    "\n",
    "    W, H = imc_descent(problem, W, H,\n",
    "                       step_fn,                  # the inner optimization\n",
    "                       step_kwargs=step_kwargs,  # asrtguments for the inner optimizer\n",
    "                       n_iterations=n_iter,      # the number of outer iterations (Gauss-Siedel)\n",
    "                       n_init_iterations=0,\n",
    "                       return_history=True,      # Record the evolution of the matrices (W, H)\n",
    "                       rtol=1e-5,                # relative stopping tolerance for the outer iterations\n",
    "                       atol=1e-7,                # absolute tolerance\n",
    "                       verbose=False,            # show the progress bar\n",
    "                       check_product=True,       # use the product W H' for stopping\n",
    "                      )\n",
    "\n",
    "    losses.append(calculate_loss(R_clean_full, X, W, H, Y, invert(mask)))\n",
    "    \n",
    "losses = np.array(losses)\n",
    "np.save(exp_path + \"results_sgimc.npy\", losses)"
   ]
  },
  {
   "cell_type": "markdown",
   "metadata": {
    "collapsed": true
   },
   "source": [
    "## Run experiment (K > n_rank)"
   ]
  },
  {
   "cell_type": "code",
   "execution_count": 7,
   "metadata": {
    "collapsed": true
   },
   "outputs": [],
   "source": [
    "K = 30"
   ]
  },
  {
   "cell_type": "code",
   "execution_count": 9,
   "metadata": {
    "collapsed": true
   },
   "outputs": [],
   "source": [
    "losses = []\n",
    "for i, elem in enumerate(elements):\n",
    "    R_noisy_full = np.load(exp_path + \"R_noisy_{}.npy\".format(i))\n",
    "    R_clean_full = np.load(exp_path + \"R_clean_{}.npy\".format(i))\n",
    "    X = np.load(exp_path + \"X_{}.npy\".format(i))\n",
    "    Y = np.load(exp_path + \"Y_{}.npy\".format(i))\n",
    "    mask = np.load(exp_path + \"mask_{}.npy\".format(i))\n",
    "\n",
    "    R_train = sparsify_with_mask(R_noisy_full, mask)\n",
    "    problem = IMCProblem(QAObjectiveLoss, X, Y, R_train, n_threads=8)\n",
    "\n",
    "    W_0 = random_state.normal(size=(X.shape[1], K))\n",
    "    H_0 = random_state.normal(size=(Y.shape[1], K))\n",
    "\n",
    "    W, H = W_0.copy(), H_0.copy()\n",
    "\n",
    "    W, H = imc_descent(problem, W, H,\n",
    "                       step_fn,                  # the inner optimization\n",
    "                       step_kwargs=step_kwargs,  # asrtguments for the inner optimizer\n",
    "                       n_iterations=n_iter,      # the number of outer iterations (Gauss-Siedel)\n",
    "                       n_init_iterations=0,\n",
    "                       return_history=True,      # Record the evolution of the matrices (W, H)\n",
    "                       rtol=1e-5,                # relative stopping tolerance for the outer iterations\n",
    "                       atol=1e-7,                # absolute tolerance\n",
    "                       verbose=False,            # show the progress bar\n",
    "                       check_product=True,       # use the product W H' for stopping\n",
    "                      )\n",
    "\n",
    "    losses.append(calculate_loss(R_clean_full, X, W, H, Y, invert(mask)))\n",
    "    \n",
    "losses = np.array(losses)\n",
    "np.save(exp_path + \"results_sgimc_1.npy\", losses)"
   ]
  },
  {
   "cell_type": "markdown",
   "metadata": {
    "collapsed": true
   },
   "source": [
    "## Plots"
   ]
  },
  {
   "cell_type": "code",
   "execution_count": 8,
   "metadata": {},
   "outputs": [
    {
     "data": {
      "image/png": "[encoded data removed]",
      "text/plain": [
       "<matplotlib.figure.Figure at 0x7f16f4ef4b70>"
      ]
     },
     "metadata": {},
     "output_type": "display_data"
    }
   ],
   "source": [
    "exp_path = \"/nmnt/x04-hdd/boris_temp/SGIMC_IMC/article_instances/\"\n",
    "\n",
    "sgimc_losses = np.load(exp_path + \"results_sgimc.npy\")\n",
    "imc_losses = np.load(exp_path + \"results_imc.npy\")\n",
    "\n",
    "sgimc_losses_1 = np.load(exp_path + \"results_sgimc_1.npy\")\n",
    "imc_losses_1 = np.load(exp_path + \"results_imc_1.npy\")\n",
    "\n",
    "\n",
    "################################### FIGURE ###################################\n",
    "plt.figure(figsize=(10,8))\n",
    "\n",
    "# lines\n",
    "sgimc_line = mlines.Line2D([], [], color='blue', marker='o',\n",
    "                           markersize=8, label='SGIMC (K = 20)')\n",
    "sgimc_line_1 = mlines.Line2D([], [], color='blue', marker='o', linestyle='--',\n",
    "                             markersize=8, label='SGIMC (K = 30)')\n",
    "imc_line = mlines.Line2D([], [], color='red', marker='s',\n",
    "                         markersize=8, label='IMC (K = 20)')\n",
    "imc_line_1 = mlines.Line2D([], [], color='red', marker='s', linestyle='--',\n",
    "                           markersize=8, label='IMC (K = 30)')\n",
    "\n",
    "\n",
    "skip = 3\n",
    "_skip = 2\n",
    "\n",
    "# curves\n",
    "plt.plot(elements[::skip][::_skip], sgimc_losses[::skip][::_skip], 'b-', label='SGIMC (K = 20)', linewidth=2)\n",
    "plt.plot(elements[::skip][::_skip], sgimc_losses_1[::skip][::_skip], 'b--', label='SGIMC (K = 30)', linewidth=2)\n",
    "plt.plot(elements[::skip][::_skip], imc_losses[::_skip], 'r-', label='IMC (K = 20)', linewidth=2)\n",
    "plt.plot(elements[::skip][::_skip], imc_losses_1[::_skip], 'r--', label='IMC (K = 30)', linewidth=2)\n",
    "\n",
    "# dotes\n",
    "plt.plot(elements[::skip][::_skip], sgimc_losses[::skip][::_skip], 'bo', label='SGIMC (K = 20)', linewidth=2)\n",
    "plt.plot(elements[::skip][::_skip], sgimc_losses_1[::skip][::_skip], 'bo', label='SGIMC (K = 30)', linewidth=2)\n",
    "plt.plot(elements[::skip][::_skip], imc_losses[::_skip], 'rs', label='IMC (K = 20)', linewidth=2)\n",
    "plt.plot(elements[::skip][::_skip], imc_losses_1[::_skip], 'rs', label='IMC (K = 30)', linewidth=2)\n",
    "\n",
    "# specify axis limits and labels\n",
    "plt.xlim((0,0.052))\n",
    "plt.xlabel('Number of features', fontsize=15)\n",
    "plt.ylabel('Relative error', fontsize=15)\n",
    "\n",
    "# ticks\n",
    "plt.xticks(fontsize=12)\n",
    "plt.yticks(fontsize=12)\n",
    "\n",
    "# legend\n",
    "plt.legend(handles=[sgimc_line, sgimc_line_1, imc_line, imc_line_1], fontsize=15, loc=1)\n",
    "\n",
    "plt.show()\n",
    "# TODO: save as pdf"
   ]
  },
  {
   "cell_type": "code",
   "execution_count": null,
   "metadata": {
    "collapsed": true
   },
   "outputs": [],
   "source": []
  }
 ],
 "metadata": {
  "kernelspec": {
   "display_name": "Python 3",
   "language": "python",
   "name": "python3"
  },
  "language_info": {
   "codemirror_mode": {
    "name": "ipython",
    "version": 3
   },
   "file_extension": ".py",
   "mimetype": "text/x-python",
   "name": "python",
   "nbconvert_exporter": "python",
   "pygments_lexer": "ipython3",
   "version": "3.6.1"
  }
 },
 "nbformat": 4,
 "nbformat_minor": 2
}
