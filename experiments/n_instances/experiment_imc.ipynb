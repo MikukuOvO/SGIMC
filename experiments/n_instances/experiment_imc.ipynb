{
 "cells": [
  {
   "cell_type": "markdown",
   "metadata": {},
   "source": [
    "# Running experiments on the n_features generated data"
   ]
  },
  {
   "cell_type": "code",
   "execution_count": 13,
   "metadata": {
    "collapsed": true
   },
   "outputs": [],
   "source": [
    "import os\n",
    "import time\n",
    "import gzip\n",
    "import pickle\n",
    "import warnings\n",
    "\n",
    "%matplotlib inline\n",
    "import matplotlib.pyplot as plt\n",
    "\n",
    "import numpy as np\n",
    "\n",
    "from tqdm import TqdmSynchronisationWarning\n",
    "warnings.simplefilter(\"ignore\", TqdmSynchronisationWarning)"
   ]
  },
  {
   "cell_type": "markdown",
   "metadata": {},
   "source": [
    "The paths"
   ]
  },
  {
   "cell_type": "code",
   "execution_count": 14,
   "metadata": {
    "collapsed": true
   },
   "outputs": [],
   "source": [
    "PATH_TO_EXP = ''\n",
    "PATH_DATA = os.path.join(PATH_TO_EXP, 'data/n_instances')\n",
    "\n",
    "PATH_ARCHIVE = os.path.join(PATH_DATA, \"arch_imc\")\n",
    "if not os.path.isdir(PATH_ARCHIVE):\n",
    "    os.mkdir(PATH_ARCHIVE)"
   ]
  },
  {
   "cell_type": "markdown",
   "metadata": {},
   "source": [
    "Filenames"
   ]
  },
  {
   "cell_type": "code",
   "execution_count": 15,
   "metadata": {
    "collapsed": true
   },
   "outputs": [],
   "source": [
    "filenames = {\n",
    "    \"input\": \"data.gz\",\n",
    "    \"output\": \"results_imc.gz\"\n",
    "}"
   ]
  },
  {
   "cell_type": "markdown",
   "metadata": {},
   "source": [
    "The dataset and results"
   ]
  },
  {
   "cell_type": "code",
   "execution_count": 16,
   "metadata": {
    "collapsed": true
   },
   "outputs": [],
   "source": [
    "filename_input = os.path.join(PATH_DATA, filenames[\"input\"])\n",
    "\n",
    "filename_output = os.path.join(PATH_DATA, filenames[\"output\"])\n",
    "\n",
    "if os.path.exists(filename_output):\n",
    "    mdttm = time.strftime(\"%Y%m%d_%H%M%S\")\n",
    "    os.rename(filename_output, os.path.join(PATH_ARCHIVE, \"%s%s\" % (mdttm, filenames[\"output\"])))"
   ]
  },
  {
   "cell_type": "markdown",
   "metadata": {},
   "source": [
    "The train-test splitting"
   ]
  },
  {
   "cell_type": "code",
   "execution_count": 17,
   "metadata": {
    "collapsed": true
   },
   "outputs": [],
   "source": [
    "from sgimc.utils import mc_split"
   ]
  },
  {
   "cell_type": "markdown",
   "metadata": {},
   "source": [
    "A helper function to extract a sparse submatrix from a dense one accorind to the provided indices."
   ]
  },
  {
   "cell_type": "code",
   "execution_count": 18,
   "metadata": {
    "collapsed": true
   },
   "outputs": [],
   "source": [
    "from sgimc.utils import get_submatrix"
   ]
  },
  {
   "cell_type": "markdown",
   "metadata": {},
   "source": [
    "The scores collected in the experiment"
   ]
  },
  {
   "cell_type": "code",
   "execution_count": 19,
   "metadata": {
    "collapsed": true
   },
   "outputs": [],
   "source": [
    "from sklearn.metrics import confusion_matrix\n",
    "from sklearn.metrics import roc_auc_score\n",
    "from scipy.sparse import coo_matrix\n",
    "\n",
    "\n",
    "def mc_get_scores(R_true, R_prob):\n",
    "    diff = np.sum((R_prob.data - R_true.data) ** 2)\n",
    "    norm = np.sum(R_true.data ** 2)\n",
    "\n",
    "    return {\"relative_error\": diff / norm}"
   ]
  },
  {
   "cell_type": "markdown",
   "metadata": {},
   "source": [
    "Fix the seed"
   ]
  },
  {
   "cell_type": "code",
   "execution_count": 20,
   "metadata": {
    "collapsed": true
   },
   "outputs": [],
   "source": [
    "random_state = np.random.RandomState(0x0BADCAFE)"
   ]
  },
  {
   "cell_type": "markdown",
   "metadata": {},
   "source": [
    "Setup parameters"
   ]
  },
  {
   "cell_type": "code",
   "execution_count": 21,
   "metadata": {
    "collapsed": true
   },
   "outputs": [],
   "source": [
    "from sklearn.model_selection import ParameterGrid\n",
    "\n",
    "grid_dataset = ParameterGrid({\n",
    "    \"train_size\": np.arange(0.001, 0.02, 0.0015),\n",
    "    \"n_splits\": [5],\n",
    "})\n",
    "\n",
    "grid_model = ParameterGrid({\n",
    "    \"C_lasso\": [0],\n",
    "    \"C_group\": [0],\n",
    "    \"C_ridge\": [1e0],\n",
    "    \"lamb\": [1e-4, 1e-3, 1e-2],\n",
    "    \"rank\": [25]\n",
    "})"
   ]
  },
  {
   "cell_type": "markdown",
   "metadata": {},
   "source": [
    "Load the dataset"
   ]
  },
  {
   "cell_type": "code",
   "execution_count": 22,
   "metadata": {
    "collapsed": true
   },
   "outputs": [],
   "source": [
    "from sgimc.utils import load, save\n",
    "\n",
    "X, Y, R_full, R_noisy = load(filename_input)\n",
    "\n",
    "dvlp_size, test_size = 0.9, 0.1\n",
    "\n",
    "ind_dvlp, ind_test = next(mc_split(R_full, n_splits=1, random_state=random_state,\n",
    "                                   train_size=dvlp_size, test_size=test_size))\n",
    "\n",
    "R_test = get_submatrix(R_full, ind_test)"
   ]
  },
  {
   "cell_type": "markdown",
   "metadata": {},
   "source": [
    "Load the IMC method"
   ]
  },
  {
   "cell_type": "code",
   "execution_count": 23,
   "metadata": {
    "collapsed": true
   },
   "outputs": [],
   "source": [
    "from sgimc import SparseGroupIMCRegressor"
   ]
  },
  {
   "cell_type": "code",
   "execution_count": 27,
   "metadata": {},
   "outputs": [
    {
     "name": "stderr",
     "output_type": "stream",
     "text": [
      "  0%|          | 0/13 [00:00<?, ?it/s]\n"
     ]
    },
    {
     "ename": "TypeError",
     "evalue": "Regularization coefficient must be either a float or a pair of floats.",
     "output_type": "error",
     "traceback": [
      "\u001b[0;31m---------------------------------------------------------------------------\u001b[0m",
      "\u001b[0;31mTypeError\u001b[0m                                 Traceback (most recent call last)",
      "Cell \u001b[0;32mIn[27], line 22\u001b[0m\n\u001b[1;32m     20\u001b[0m \u001b[38;5;66;03m# fit on the whole development dataset\u001b[39;00m\n\u001b[1;32m     21\u001b[0m R_train \u001b[38;5;241m=\u001b[39m get_submatrix(R_noisy, ind_train_all)\n\u001b[0;32m---> 22\u001b[0m \u001b[43mimc\u001b[49m\u001b[38;5;241;43m.\u001b[39;49m\u001b[43mfit\u001b[49m\u001b[43m(\u001b[49m\u001b[43mX\u001b[49m\u001b[43m,\u001b[49m\u001b[43m \u001b[49m\u001b[43mY\u001b[49m\u001b[43m,\u001b[49m\u001b[43m \u001b[49m\u001b[43mR_train\u001b[49m\u001b[43m,\u001b[49m\u001b[43m \u001b[49m\u001b[43msample_weight\u001b[49m\u001b[43m \u001b[49m\u001b[38;5;241;43m=\u001b[39;49m\u001b[43m \u001b[49m\u001b[43mnp\u001b[49m\u001b[38;5;241;43m.\u001b[39;49m\u001b[43mones\u001b[49m\u001b[43m(\u001b[49m\u001b[43mR_train\u001b[49m\u001b[38;5;241;43m.\u001b[39;49m\u001b[43mnnz\u001b[49m\u001b[43m)\u001b[49m\u001b[43m \u001b[49m\u001b[38;5;241;43m/\u001b[39;49m\u001b[43m \u001b[49m\u001b[43mlamb\u001b[49m\u001b[43m)\u001b[49m\n\u001b[1;32m     24\u001b[0m \u001b[38;5;66;03m# get the score\u001b[39;00m\n\u001b[1;32m     25\u001b[0m prob_full \u001b[38;5;241m=\u001b[39m imc\u001b[38;5;241m.\u001b[39mpredict(X, Y)\n",
      "File \u001b[0;32m~/SGIMC/experiments/n_instances/sgimc/classes.py:663\u001b[0m, in \u001b[0;36mSparseGroupIMCRegressor.fit\u001b[0;34m(self, X, Y, R, sample_weight, W, H)\u001b[0m\n\u001b[1;32m    660\u001b[0m \u001b[38;5;28;01mif\u001b[39;00m H \u001b[38;5;129;01mis\u001b[39;00m \u001b[38;5;28;01mNone\u001b[39;00m:\n\u001b[1;32m    661\u001b[0m     H \u001b[38;5;241m=\u001b[39m random_state\u001b[38;5;241m.\u001b[39mnormal(size\u001b[38;5;241m=\u001b[39m(Y\u001b[38;5;241m.\u001b[39mshape[\u001b[38;5;241m1\u001b[39m], \u001b[38;5;28mself\u001b[39m\u001b[38;5;241m.\u001b[39mrank))\n\u001b[0;32m--> 663\u001b[0m \u001b[38;5;28;01mreturn\u001b[39;00m \u001b[38;5;28;43mself\u001b[39;49m\u001b[38;5;241;43m.\u001b[39;49m\u001b[43m_gauss_siedel\u001b[49m\u001b[43m(\u001b[49m\u001b[43mproblem\u001b[49m\u001b[43m,\u001b[49m\u001b[43m \u001b[49m\u001b[43mW\u001b[49m\u001b[43m,\u001b[49m\u001b[43m \u001b[49m\u001b[43mH\u001b[49m\u001b[43m)\u001b[49m\n",
      "File \u001b[0;32m~/SGIMC/experiments/n_instances/sgimc/classes.py:255\u001b[0m, in \u001b[0;36mBaseSparseGroupIMC._gauss_siedel\u001b[0;34m(self, problem, W, H, rtol, atol)\u001b[0m\n\u001b[1;32m    251\u001b[0m     C_ridge \u001b[38;5;241m=\u001b[39m \u001b[38;5;28mself\u001b[39m\u001b[38;5;241m.\u001b[39mC_ridge, \u001b[38;5;28mself\u001b[39m\u001b[38;5;241m.\u001b[39mC_ridge\n\u001b[1;32m    253\u001b[0m \u001b[38;5;28;01mif\u001b[39;00m \u001b[38;5;129;01mnot\u001b[39;00m \u001b[38;5;28mall\u001b[39m(\u001b[38;5;28misinstance\u001b[39m(C, \u001b[38;5;28mtuple\u001b[39m) \u001b[38;5;129;01mand\u001b[39;00m \u001b[38;5;28mlen\u001b[39m(C) \u001b[38;5;241m==\u001b[39m \u001b[38;5;241m2\u001b[39m\n\u001b[1;32m    254\u001b[0m            \u001b[38;5;28;01mfor\u001b[39;00m C \u001b[38;5;129;01min\u001b[39;00m [C_lasso, C_group, C_ridge]):\n\u001b[0;32m--> 255\u001b[0m     \u001b[38;5;28;01mraise\u001b[39;00m \u001b[38;5;167;01mTypeError\u001b[39;00m(\u001b[38;5;124m\"\"\"\u001b[39m\u001b[38;5;124mRegularization coefficient must be either a \u001b[39m\u001b[38;5;124m\"\"\"\u001b[39m\n\u001b[1;32m    256\u001b[0m \u001b[38;5;250m                    \u001b[39m\u001b[38;5;124;03m\"\"\"float or a pair of floats.\"\"\"\u001b[39;00m)\n\u001b[1;32m    258\u001b[0m \u001b[38;5;28;01mif\u001b[39;00m \u001b[38;5;28mself\u001b[39m\u001b[38;5;241m.\u001b[39mcheck_convergence:\n\u001b[1;32m    259\u001b[0m     WHt \u001b[38;5;241m=\u001b[39m np\u001b[38;5;241m.\u001b[39mdot(W, H\u001b[38;5;241m.\u001b[39mT)\n",
      "\u001b[0;31mTypeError\u001b[0m: Regularization coefficient must be either a float or a pair of floats."
     ]
    }
   ],
   "source": [
    "from tqdm import tqdm\n",
    "from sklearn.model_selection import ShuffleSplit, KFold\n",
    "from sklearn.model_selection import train_test_split\n",
    "\n",
    "results = []\n",
    "for par_dtst in tqdm(grid_dataset):\n",
    "    \n",
    "    # prepare the train dataset: take the specified share from the beginnig of the index array\n",
    "    ind_train_all, _ = train_test_split(ind_dvlp, shuffle=False, random_state=random_state,\n",
    "                                        test_size=(1 - (par_dtst[\"train_size\"] / dvlp_size)))\n",
    "\n",
    "    # Run the experiment: the model \n",
    "    for par_mdl in grid_model:  # tqdm.tqdm(, desc=\"cv %02d\" % (cv,))\n",
    "        # set up the model\n",
    "        C_lasso, C_group, C_ridge = par_mdl[\"C_lasso\"], par_mdl[\"C_group\"], par_mdl[\"C_ridge\"]\n",
    "        lamb = par_mdl[\"lamb\"]\n",
    "        imc = SparseGroupIMCRegressor(par_mdl[\"rank\"], n_threads=8, random_state=42,\n",
    "                                      C_lasso=C_lasso, C_group=C_group, C_ridge=C_ridge)\n",
    "\n",
    "        # fit on the whole development dataset\n",
    "        R_train = get_submatrix(R_noisy, ind_train_all)\n",
    "        imc.fit(X, Y, R_train, sample_weight = np.ones(R_train.nnz) / lamb)\n",
    "\n",
    "        # get the score\n",
    "        prob_full = imc.predict(X, Y)\n",
    "        prob_test = get_submatrix(prob_full, ind_test)\n",
    "        scores_test = mc_get_scores(R_test, prob_test)\n",
    "\n",
    "        # run the k-fold CV\n",
    "        # splt = ShuffleSplit(**par_dtst, random_state=random_state)\n",
    "        splt = KFold(par_dtst[\"n_splits\"], shuffle=True, random_state=random_state)\n",
    "        for cv, (ind_train, ind_valid) in enumerate(splt.split(ind_train_all)):\n",
    "\n",
    "            # prepare the train and test indices\n",
    "            ind_train, ind_valid = ind_train_all[ind_train], ind_train_all[ind_valid]\n",
    "            R_train = get_submatrix(R_noisy, ind_train)\n",
    "            R_valid = get_submatrix(R_noisy, ind_valid)\n",
    "\n",
    "            # fit the model\n",
    "            imc = SparseGroupIMCRegressor(par_mdl[\"rank\"], n_threads=8, random_state=42,\n",
    "                                           C_lasso=C_lasso, C_group=C_group, C_ridge=C_ridge)\n",
    "            imc.fit(X, Y, R_train, sample_weight = np.ones(R_train.nnz) / lamb)\n",
    "\n",
    "            # compute the class probabilities\n",
    "            prob_full = imc.predict(X, Y)  # uses own copies of W, H\n",
    "            prob_valid = get_submatrix(prob_full, ind_valid)\n",
    "\n",
    "            scores_valid = mc_get_scores(R_valid, prob_valid)\n",
    "\n",
    "            # record the results\n",
    "            results.append({\"train_size\": par_dtst[\"train_size\"],\n",
    "                            \"lamb\": par_mdl[\"lamb\"],\n",
    "                            \"cv\": cv,\n",
    "                            \"val_score\": scores_valid[\"relative_error\"],\n",
    "                            \"test_score\": scores_test[\"relative_error\"]}\n",
    "                          )\n",
    "        # end for\n",
    "    # end for\n",
    "# end for\n",
    "\n",
    "# Save the results in a pickle\n",
    "\n",
    "with gzip.open(filename_output, \"wb+\", 4) as fout:\n",
    "    pickle.dump(results, fout)"
   ]
  },
  {
   "cell_type": "code",
   "execution_count": null,
   "metadata": {
    "collapsed": true
   },
   "outputs": [],
   "source": [
    "# save()"
   ]
  },
  {
   "cell_type": "markdown",
   "metadata": {},
   "source": [
    "<br/>\n",
    "<hr/>"
   ]
  }
 ],
 "metadata": {
  "kernelspec": {
   "display_name": "Python 3",
   "language": "python",
   "name": "python3"
  },
  "language_info": {
   "codemirror_mode": {
    "name": "ipython",
    "version": 3
   },
   "file_extension": ".py",
   "mimetype": "text/x-python",
   "name": "python",
   "nbconvert_exporter": "python",
   "pygments_lexer": "ipython3",
   "version": "3.9.19"
  }
 },
 "nbformat": 4,
 "nbformat_minor": 2
}
